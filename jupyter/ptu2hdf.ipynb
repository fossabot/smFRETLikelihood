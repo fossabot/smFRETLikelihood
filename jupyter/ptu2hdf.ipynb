{
 "cells": [
  {
   "cell_type": "code",
   "execution_count": 1,
   "metadata": {},
   "outputs": [
    {
     "name": "stdout",
     "output_type": "stream",
     "text": [
      "phconvert version: 0.8.1\n"
     ]
    }
   ],
   "source": [
    "%matplotlib inline\n",
    "import numpy as np\n",
    "import phconvert as phc\n",
    "print('phconvert version: ' + phc.__version__)\n",
    "f=\"/dataB/smfretData/Tau_D.ptu\"\n",
    "d=phc.pqreader.load_ptu(f)"
   ]
  },
  {
   "cell_type": "code",
   "execution_count": 2,
   "metadata": {},
   "outputs": [
    {
     "name": "stdout",
     "output_type": "stream",
     "text": [
      "63904724\n"
     ]
    }
   ],
   "source": [
    "print(len(d[0]))"
   ]
  },
  {
   "cell_type": "code",
   "execution_count": 3,
   "metadata": {},
   "outputs": [
    {
     "name": "stdout",
     "output_type": "stream",
     "text": [
      "63904724\n"
     ]
    }
   ],
   "source": [
    "print(len(d[1]))"
   ]
  },
  {
   "cell_type": "code",
   "execution_count": 4,
   "metadata": {},
   "outputs": [
    {
     "name": "stdout",
     "output_type": "stream",
     "text": [
      "63904724\n"
     ]
    }
   ],
   "source": [
    "print(len(d[2]))"
   ]
  },
  {
   "cell_type": "code",
   "execution_count": 5,
   "metadata": {},
   "outputs": [
    {
     "name": "stdout",
     "output_type": "stream",
     "text": [
      "4\n"
     ]
    }
   ],
   "source": [
    "print(len(d[3]))"
   ]
  },
  {
   "cell_type": "code",
   "execution_count": 6,
   "metadata": {},
   "outputs": [
    {
     "name": "stdout",
     "output_type": "stream",
     "text": [
      "{\n",
      "    \"timestamps_unit\": 6.249687515624219e-08,\n",
      "    \"nanotimes_unit\": 2.50000003337858e-11,\n",
      "    \"acquisition_duration\": 36000.0,\n",
      "    \"tags\": {\n",
      "        \"File_GUID\": {\n",
      "            \"idx\": -1,\n",
      "            \"type\": \"tyAnsiString\",\n",
      "            \"value\": 40,\n",
      "            \"data\": \"{182B66A5-AC7B-4ED1-9AC1-0AC8EA539795}\"\n",
      "        },\n",
      "        \"File_CreatingTime\": {\n",
      "            \"idx\": -1,\n",
      "            \"type\": \"tyTDateTime\",\n",
      "            \"value\": \"2017-09-12 21:06:55\"\n",
      "        },\n",
      "        \"$StartedByRemoteInterface\": {\n",
      "            \"idx\": -1,\n",
      "            \"type\": \"tyBool8\",\n",
      "            \"value\": true\n",
      "        },\n",
      "        \"Measurement_SubMode\": {\n",
      "            \"idx\": -1,\n",
      "            \"type\": \"tyInt8\",\n",
      "            \"value\": 1\n",
      "        },\n",
      "        \"File_Comment\": {\n",
      "            \"idx\": -1,\n",
      "            \"type\": \"tyAnsiString\",\n",
      "            \"value\": 176,\n",
      "            \"data\": \"{First Dichroic Mirror}: 405/488/561/640\\r\\n{Pinhole Size(um)}: 99.6\\r\\n{Scan Direction}: One way\\r\\n{Scanner Zoom}: 1.000\\r\\n{Scan Speed}: 2\\r\\n{Optics}: Plan Apo IR 60x WI DIC N2\"\n",
      "        },\n",
      "        \"TTResult_StopReason\": {\n",
      "            \"idx\": -1,\n",
      "            \"type\": \"tyInt8\",\n",
      "            \"value\": 1\n",
      "        },\n",
      "        \"Fast_Load_End\": {\n",
      "            \"idx\": -1,\n",
      "            \"type\": \"tyEmpty8\",\n",
      "            \"value\": 0\n",
      "        },\n",
      "        \"CreatorSW_Name\": {\n",
      "            \"idx\": -1,\n",
      "            \"type\": \"tyAnsiString\",\n",
      "            \"value\": 16,\n",
      "            \"data\": \"SymPhoTime 64\"\n",
      "        },\n",
      "        \"CreatorSW_Version\": {\n",
      "            \"idx\": -1,\n",
      "            \"type\": \"tyAnsiString\",\n",
      "            \"value\": 8,\n",
      "            \"data\": \"2.1\"\n",
      "        },\n",
      "        \"CreatorSW_SVNBuild\": {\n",
      "            \"idx\": -1,\n",
      "            \"type\": \"tyInt8\",\n",
      "            \"value\": 3764\n",
      "        },\n",
      "        \"CreatorSW_Modules\": {\n",
      "            \"idx\": -1,\n",
      "            \"type\": \"tyInt8\",\n",
      "            \"value\": 0\n",
      "        },\n",
      "        \"$ReqHdr_RecordVersion\": {\n",
      "            \"idx\": -1,\n",
      "            \"type\": \"tyInt8\",\n",
      "            \"value\": 16777728\n",
      "        },\n",
      "        \"$ReqHdr_MeasurementType\": {\n",
      "            \"idx\": -1,\n",
      "            \"type\": \"tyInt8\",\n",
      "            \"value\": 0\n",
      "        },\n",
      "        \"$Comment\": {\n",
      "            \"idx\": -1,\n",
      "            \"type\": \"tyAnsiString\",\n",
      "            \"value\": 176,\n",
      "            \"data\": \"{First Dichroic Mirror}: 405/488/561/640\\r\\n{Pinhole Size(um)}: 99.6\\r\\n{Scan Direction}: One way\\r\\n{Scanner Zoom}: 1.000\\r\\n{Scan Speed}: 2\\r\\n{Optics}: Plan Apo IR 60x WI DIC N2\"\n",
      "        },\n",
      "        \"$Groupname\": {\n",
      "            \"idx\": -1,\n",
      "            \"type\": \"tyAnsiString\",\n",
      "            \"value\": 16,\n",
      "            \"data\": \"diUb201706\"\n",
      "        },\n",
      "        \"$Filename\": {\n",
      "            \"idx\": -1,\n",
      "            \"type\": \"tyAnsiString\",\n",
      "            \"value\": 32,\n",
      "            \"data\": \"LS29_200pM_alex488_pH_32MHz_ 1\"\n",
      "        },\n",
      "        \"ImgHdr_Dimensions\": {\n",
      "            \"idx\": -1,\n",
      "            \"type\": \"tyInt8\",\n",
      "            \"value\": 1\n",
      "        },\n",
      "        \"ImgHdr_Ident\": {\n",
      "            \"idx\": -1,\n",
      "            \"type\": \"tyInt8\",\n",
      "            \"value\": 3\n",
      "        },\n",
      "        \"UsrPulseCfg\": {\n",
      "            \"idx\": -1,\n",
      "            \"type\": \"tyAnsiString\",\n",
      "            \"value\": 8,\n",
      "            \"data\": \"PIE\"\n",
      "        },\n",
      "        \"UsrPulseCfgIdx\": {\n",
      "            \"idx\": -1,\n",
      "            \"type\": \"tyInt8\",\n",
      "            \"value\": 1\n",
      "        },\n",
      "        \"UsrHeadName\": {\n",
      "            \"idx\": 1,\n",
      "            \"type\": \"tyAnsiString\",\n",
      "            \"value\": 24,\n",
      "            \"data\": \"639.0nm (LDH-P-C-640)\"\n",
      "        },\n",
      "        \"Sep2_SerialNo\": {\n",
      "            \"idx\": 1174384,\n",
      "            \"type\": \"tyInt8\",\n",
      "            \"value\": 1020627\n",
      "        },\n",
      "        \"Sep2_FirmwareVersion\": {\n",
      "            \"idx\": 1174384,\n",
      "            \"type\": \"tyInt8\",\n",
      "            \"value\": 1\n",
      "        },\n",
      "        \"Sep2_SCM_000_SerialNo\": {\n",
      "            \"idx\": 1174384,\n",
      "            \"type\": \"tyInt8\",\n",
      "            \"value\": 1017943\n",
      "        },\n",
      "        \"Sep2_SOM_100_SerialNo\": {\n",
      "            \"idx\": 1174384,\n",
      "            \"type\": \"tyInt8\",\n",
      "            \"value\": 1020576\n",
      "        },\n",
      "        \"Sep2_SOM_100_BaseOscFreq\": {\n",
      "            \"idx\": 1174384,\n",
      "            \"type\": \"tyInt8\",\n",
      "            \"value\": 64000000\n",
      "        },\n",
      "        \"Sep2_SOM_100_Divider\": {\n",
      "            \"idx\": 1174384,\n",
      "            \"type\": \"tyInt8\",\n",
      "            \"value\": 2\n",
      "        },\n",
      "        \"Sep2_SOM_100_PreSync\": {\n",
      "            \"idx\": 1174384,\n",
      "            \"type\": \"tyInt8\",\n",
      "            \"value\": 0\n",
      "        },\n",
      "        \"Sep2_SOM_100_SyncMask\": {\n",
      "            \"idx\": 1174384,\n",
      "            \"type\": \"tyInt8\",\n",
      "            \"value\": 1\n",
      "        },\n",
      "        \"Sep2_SOM_100_InvSyncMask\": {\n",
      "            \"idx\": 1174384,\n",
      "            \"type\": \"tyInt8\",\n",
      "            \"value\": -1\n",
      "        },\n",
      "        \"Sep2_SOM_100_Seq_BurstLen\": {\n",
      "            \"idx\": 7,\n",
      "            \"type\": \"tyInt8\",\n",
      "            \"value\": 0\n",
      "        },\n",
      "        \"Sep2_SOM_100_Seq_EnaOutput\": {\n",
      "            \"idx\": 7,\n",
      "            \"type\": \"tyInt8\",\n",
      "            \"value\": -1\n",
      "        },\n",
      "        \"Sep2_SOM_100_Seq_EnaSync\": {\n",
      "            \"idx\": 7,\n",
      "            \"type\": \"tyInt8\",\n",
      "            \"value\": 0\n",
      "        },\n",
      "        \"Sep2_SLM_200_SerialNo\": {\n",
      "            \"idx\": 0,\n",
      "            \"type\": \"tyInt8\",\n",
      "            \"value\": 1021097\n",
      "        },\n",
      "        \"Sep2_SLM_200_TriggerIndex\": {\n",
      "            \"idx\": 0,\n",
      "            \"type\": \"tyInt8\",\n",
      "            \"value\": 7\n",
      "        },\n",
      "        \"Sep2_SLM_200_FineIntensity\": {\n",
      "            \"idx\": 0,\n",
      "            \"type\": \"tyInt8\",\n",
      "            \"value\": 97\n",
      "        },\n",
      "        \"Sep2_SLM_200_CW_PulseDisable\": {\n",
      "            \"idx\": 0,\n",
      "            \"type\": \"tyInt8\",\n",
      "            \"value\": 0\n",
      "        },\n",
      "        \"Sep2_SLM_200_HeadType\": {\n",
      "            \"idx\": 0,\n",
      "            \"type\": \"tyInt8\",\n",
      "            \"value\": 0\n",
      "        },\n",
      "        \"Sep2_SLM_300_SerialNo\": {\n",
      "            \"idx\": 1,\n",
      "            \"type\": \"tyInt8\",\n",
      "            \"value\": 1021098\n",
      "        },\n",
      "        \"Sep2_SLM_300_TriggerIndex\": {\n",
      "            \"idx\": 1,\n",
      "            \"type\": \"tyInt8\",\n",
      "            \"value\": 7\n",
      "        },\n",
      "        \"Sep2_SLM_300_FineIntensity\": {\n",
      "            \"idx\": 1,\n",
      "            \"type\": \"tyInt8\",\n",
      "            \"value\": 52\n",
      "        },\n",
      "        \"Sep2_SLM_300_CW_PulseDisable\": {\n",
      "            \"idx\": 1,\n",
      "            \"type\": \"tyInt8\",\n",
      "            \"value\": 0\n",
      "        },\n",
      "        \"Sep2_SLM_300_HeadType\": {\n",
      "            \"idx\": 1,\n",
      "            \"type\": \"tyInt8\",\n",
      "            \"value\": 0\n",
      "        },\n",
      "        \"Measurement_Mode\": {\n",
      "            \"idx\": -1,\n",
      "            \"type\": \"tyInt8\",\n",
      "            \"value\": 3\n",
      "        },\n",
      "        \"HW_Type\": {\n",
      "            \"idx\": -1,\n",
      "            \"type\": \"tyAnsiString\",\n",
      "            \"value\": 16,\n",
      "            \"data\": \"TimeHarp260P\"\n",
      "        },\n",
      "        \"HW_SerialNo\": {\n",
      "            \"idx\": -1,\n",
      "            \"type\": \"tyAnsiString\",\n",
      "            \"value\": 8,\n",
      "            \"data\": \"1020408\"\n",
      "        },\n",
      "        \"HW_Version\": {\n",
      "            \"idx\": -1,\n",
      "            \"type\": \"tyAnsiString\",\n",
      "            \"value\": 16,\n",
      "            \"data\": \"0111-0422-01.02\"\n",
      "        },\n",
      "        \"HW_ExternalRefClock\": {\n",
      "            \"idx\": -1,\n",
      "            \"type\": \"tyBool8\",\n",
      "            \"value\": false\n",
      "        },\n",
      "        \"HW_Modules\": {\n",
      "            \"idx\": -1,\n",
      "            \"type\": \"tyInt8\",\n",
      "            \"value\": 1\n",
      "        },\n",
      "        \"HWModule_TypeCode\": {\n",
      "            \"idx\": 0,\n",
      "            \"type\": \"tyInt8\",\n",
      "            \"value\": 1000\n",
      "        },\n",
      "        \"HWModule_VersCode\": {\n",
      "            \"idx\": 0,\n",
      "            \"type\": \"tyInt8\",\n",
      "            \"value\": 17891332\n",
      "        },\n",
      "        \"HW_Markers\": {\n",
      "            \"idx\": -1,\n",
      "            \"type\": \"tyInt8\",\n",
      "            \"value\": 4\n",
      "        },\n",
      "        \"HWMarkers_Enabled\": {\n",
      "            \"idx\": 3,\n",
      "            \"type\": \"tyBool8\",\n",
      "            \"value\": true\n",
      "        },\n",
      "        \"HWMarkers_RisingEdge\": {\n",
      "            \"idx\": 3,\n",
      "            \"type\": \"tyBool8\",\n",
      "            \"value\": false\n",
      "        },\n",
      "        \"HWMarkers_HoldOff\": {\n",
      "            \"idx\": -1,\n",
      "            \"type\": \"tyInt8\",\n",
      "            \"value\": 0\n",
      "        },\n",
      "        \"HW_BaseResolution\": {\n",
      "            \"idx\": -1,\n",
      "            \"type\": \"tyFloat8\",\n",
      "            \"value\": 2.50000003337858e-11\n",
      "        },\n",
      "        \"MeasDesc_BinningFactor\": {\n",
      "            \"idx\": -1,\n",
      "            \"type\": \"tyInt8\",\n",
      "            \"value\": 1\n",
      "        },\n",
      "        \"MeasDesc_Resolution\": {\n",
      "            \"idx\": -1,\n",
      "            \"type\": \"tyFloat8\",\n",
      "            \"value\": 2.50000003337858e-11\n",
      "        },\n",
      "        \"HWSync_CFDLevel\": {\n",
      "            \"idx\": -1,\n",
      "            \"type\": \"tyInt8\",\n",
      "            \"value\": -100\n",
      "        },\n",
      "        \"HWSync_CFDZeroCross\": {\n",
      "            \"idx\": -1,\n",
      "            \"type\": \"tyInt8\",\n",
      "            \"value\": -10\n",
      "        },\n",
      "        \"HWSync_Offset\": {\n",
      "            \"idx\": -1,\n",
      "            \"type\": \"tyInt8\",\n",
      "            \"value\": 3500\n",
      "        },\n",
      "        \"HWSync_Divider\": {\n",
      "            \"idx\": -1,\n",
      "            \"type\": \"tyInt8\",\n",
      "            \"value\": 8\n",
      "        },\n",
      "        \"HW_InpChannels\": {\n",
      "            \"idx\": -1,\n",
      "            \"type\": \"tyInt8\",\n",
      "            \"value\": 3\n",
      "        },\n",
      "        \"HWInpChan_CFDLevel\": {\n",
      "            \"idx\": 1,\n",
      "            \"type\": \"tyInt8\",\n",
      "            \"value\": -50\n",
      "        },\n",
      "        \"HWInpChan_CFDZeroCross\": {\n",
      "            \"idx\": 1,\n",
      "            \"type\": \"tyInt8\",\n",
      "            \"value\": -10\n",
      "        },\n",
      "        \"HWInpChan_Offset\": {\n",
      "            \"idx\": 1,\n",
      "            \"type\": \"tyInt8\",\n",
      "            \"value\": 0\n",
      "        },\n",
      "        \"HWInpChan_Enabled\": {\n",
      "            \"idx\": 1,\n",
      "            \"type\": \"tyBool8\",\n",
      "            \"value\": true\n",
      "        },\n",
      "        \"HWInpChan_ModuleIdx\": {\n",
      "            \"idx\": 1,\n",
      "            \"type\": \"tyInt8\",\n",
      "            \"value\": 1\n",
      "        },\n",
      "        \"TTResult_SyncRate\": {\n",
      "            \"idx\": -1,\n",
      "            \"type\": \"tyInt8\",\n",
      "            \"value\": 16000800\n",
      "        },\n",
      "        \"TTResult_InputRate\": {\n",
      "            \"idx\": 1,\n",
      "            \"type\": \"tyInt8\",\n",
      "            \"value\": 12440\n",
      "        },\n",
      "        \"MeasDesc_GlobalResolution\": {\n",
      "            \"idx\": -1,\n",
      "            \"type\": \"tyFloat8\",\n",
      "            \"value\": 6.249687515624219e-08\n",
      "        },\n",
      "        \"TTResult_NumberOfRecords\": {\n",
      "            \"idx\": -1,\n",
      "            \"type\": \"tyInt8\",\n",
      "            \"value\": 63904724\n",
      "        },\n",
      "        \"MeasDesc_AcquisitionTime\": {\n",
      "            \"idx\": -1,\n",
      "            \"type\": \"tyInt8\",\n",
      "            \"value\": 36000000\n",
      "        },\n",
      "        \"TTResult_StopAfter\": {\n",
      "            \"idx\": -1,\n",
      "            \"type\": \"tyInt8\",\n",
      "            \"value\": 3125400\n",
      "        },\n",
      "        \"TTResultFormat_TTTRRecType\": {\n",
      "            \"idx\": -1,\n",
      "            \"type\": \"tyInt8\",\n",
      "            \"value\": 66310\n",
      "        },\n",
      "        \"TTResultFormat_BitsPerRecord\": {\n",
      "            \"idx\": -1,\n",
      "            \"type\": \"tyInt8\",\n",
      "            \"value\": 32\n",
      "        },\n",
      "        \"Header_End\": {\n",
      "            \"idx\": -1,\n",
      "            \"type\": \"tyEmpty8\",\n",
      "            \"value\": 0\n",
      "        }\n",
      "    }\n",
      "}\n"
     ]
    }
   ],
   "source": [
    "import json\n",
    "#parsed = json.loads(d[3])\n",
    "print(json.dumps(d[3],indent=4))"
   ]
  },
  {
   "cell_type": "code",
   "execution_count": 7,
   "metadata": {},
   "outputs": [
    {
     "name": "stdout",
     "output_type": "stream",
     "text": [
      "16000800\n",
      "1.0000000624968752\n"
     ]
    }
   ],
   "source": [
    "print(int(d[3][\"tags\"][\"TTResult_SyncRate\"]['value']))\n",
    "print(d[3][\"timestamps_unit\"]+1)"
   ]
  },
  {
   "cell_type": "code",
   "execution_count": 8,
   "metadata": {},
   "outputs": [
    {
     "data": {
      "text/plain": [
       "(array([  2.47499150e+07,   1.36610000e+04,   1.38080000e+04,\n",
       "          1.64890000e+04,   1.68530000e+04,   1.71680000e+04,\n",
       "          2.47770000e+04,   2.40960000e+04,   1.93770000e+04,\n",
       "          1.98050000e+04,   2.02190000e+04,   1.97592900e+06,\n",
       "          6.52330700e+06,   5.91576000e+06,   4.38682800e+06,\n",
       "          3.37957300e+06,   2.56192800e+06,   2.13939700e+06,\n",
       "          1.72643300e+06,   1.40959000e+06,   1.16355700e+06,\n",
       "          9.29596000e+05,   8.12648000e+05,   6.83708000e+05,\n",
       "          5.78674000e+05,   4.73062000e+05,   4.24108000e+05,\n",
       "          3.62625000e+05,   3.12087000e+05,   2.60295000e+05,\n",
       "          2.34912000e+05,   2.05616000e+05,   1.78528000e+05,\n",
       "          1.51118000e+05,   1.38353000e+05,   1.21757000e+05,\n",
       "          1.07167000e+05,   9.20880000e+04,   8.56750000e+04,\n",
       "          7.70940000e+04,   6.90800000e+04,   6.27600000e+04,\n",
       "          5.44580000e+04,   5.17740000e+04,   4.73750000e+04,\n",
       "          4.34920000e+04,   3.86630000e+04,   3.69590000e+04,\n",
       "          3.43120000e+04,   3.17970000e+04,   2.88420000e+04,\n",
       "          2.83970000e+04,   2.65880000e+04,   2.55760000e+04,\n",
       "          2.39910000e+04,   2.45000000e+04,   2.60250000e+04,\n",
       "          3.17490000e+04,   3.51290000e+04,   2.87710000e+04,\n",
       "          2.70880000e+04,   2.59020000e+04,   2.43750000e+04,\n",
       "          3.25640000e+04,   9.13570000e+04,   3.23670000e+04,\n",
       "          2.50220000e+04,   2.17120000e+04,   2.17590000e+04,\n",
       "          2.08050000e+04,   2.01920000e+04,   1.87760000e+04,\n",
       "          1.89280000e+04,   1.84300000e+04,   1.77930000e+04,\n",
       "          1.67270000e+04,   1.70240000e+04,   1.67960000e+04,\n",
       "          1.67470000e+04,   1.56840000e+04,   1.61510000e+04,\n",
       "          1.60460000e+04,   1.54570000e+04,   1.56130000e+04,\n",
       "          1.48390000e+04,   1.51500000e+04,   1.49830000e+04,\n",
       "          1.49940000e+04,   1.42310000e+04,   1.47750000e+04,\n",
       "          1.47230000e+04,   1.45040000e+04,   1.38120000e+04,\n",
       "          1.44010000e+04,   1.42780000e+04,   1.42060000e+04,\n",
       "          1.35650000e+04,   1.40070000e+04,   1.40900000e+04,\n",
       "          1.39200000e+04,   1.31120000e+04]),\n",
       " array([    0.        ,    24.76237624,    49.52475248,    74.28712871,\n",
       "           99.04950495,   123.81188119,   148.57425743,   173.33663366,\n",
       "          198.0990099 ,   222.86138614,   247.62376238,   272.38613861,\n",
       "          297.14851485,   321.91089109,   346.67326733,   371.43564356,\n",
       "          396.1980198 ,   420.96039604,   445.72277228,   470.48514851,\n",
       "          495.24752475,   520.00990099,   544.77227723,   569.53465347,\n",
       "          594.2970297 ,   619.05940594,   643.82178218,   668.58415842,\n",
       "          693.34653465,   718.10891089,   742.87128713,   767.63366337,\n",
       "          792.3960396 ,   817.15841584,   841.92079208,   866.68316832,\n",
       "          891.44554455,   916.20792079,   940.97029703,   965.73267327,\n",
       "          990.4950495 ,  1015.25742574,  1040.01980198,  1064.78217822,\n",
       "         1089.54455446,  1114.30693069,  1139.06930693,  1163.83168317,\n",
       "         1188.59405941,  1213.35643564,  1238.11881188,  1262.88118812,\n",
       "         1287.64356436,  1312.40594059,  1337.16831683,  1361.93069307,\n",
       "         1386.69306931,  1411.45544554,  1436.21782178,  1460.98019802,\n",
       "         1485.74257426,  1510.5049505 ,  1535.26732673,  1560.02970297,\n",
       "         1584.79207921,  1609.55445545,  1634.31683168,  1659.07920792,\n",
       "         1683.84158416,  1708.6039604 ,  1733.36633663,  1758.12871287,\n",
       "         1782.89108911,  1807.65346535,  1832.41584158,  1857.17821782,\n",
       "         1881.94059406,  1906.7029703 ,  1931.46534653,  1956.22772277,\n",
       "         1980.99009901,  2005.75247525,  2030.51485149,  2055.27722772,\n",
       "         2080.03960396,  2104.8019802 ,  2129.56435644,  2154.32673267,\n",
       "         2179.08910891,  2203.85148515,  2228.61386139,  2253.37623762,\n",
       "         2278.13861386,  2302.9009901 ,  2327.66336634,  2352.42574257,\n",
       "         2377.18811881,  2401.95049505,  2426.71287129,  2451.47524752,\n",
       "         2476.23762376,  2501.        ]),\n",
       " <a list of 101 Patch objects>)"
      ]
     },
     "execution_count": 8,
     "metadata": {},
     "output_type": "execute_result"
    },
    {
     "data": {
      "image/png": "[encoded data removed]",
      "text/plain": [
       "<matplotlib.figure.Figure at 0x7f8bb57459e8>"
      ]
     },
     "metadata": {},
     "output_type": "display_data"
    }
   ],
   "source": [
    "import matplotlib\n",
    "matplotlib.pyplot.hist(d[2],101)"
   ]
  },
  {
   "cell_type": "code",
   "execution_count": 9,
   "metadata": {},
   "outputs": [
    {
     "name": "stdout",
     "output_type": "stream",
     "text": [
      "2501\n"
     ]
    }
   ],
   "source": [
    "print(max(d[2]))"
   ]
  },
  {
   "cell_type": "code",
   "execution_count": 10,
   "metadata": {},
   "outputs": [
    {
     "name": "stdout",
     "output_type": "stream",
     "text": [
      "       0    3450324\n",
      "       1   35718020\n",
      "      65        209\n",
      "      66        215\n",
      "      68         94\n",
      "      72          3\n",
      "     127   24735859\n"
     ]
    }
   ],
   "source": [
    "for det, count in zip(*np.unique(d[1], return_counts=True)):\n",
    "    print(\"%8d   %8d\" % (det, count))"
   ]
  },
  {
   "cell_type": "code",
   "execution_count": 11,
   "metadata": {},
   "outputs": [
    {
     "name": "stdout",
     "output_type": "stream",
     "text": [
      "Detector    Counts\n",
      "--------   --------\n",
      "       0    3450204\n",
      "       1   35717937\n"
     ]
    }
   ],
   "source": [
    "nanotimes = d[2]\n",
    "detectors = d[1]\n",
    "timestamps = d[0]\n",
    "\n",
    "not_overflow = d[2] != 0\n",
    "\n",
    "detectors = detectors[not_overflow]\n",
    "timestamps = timestamps[not_overflow]\n",
    "nanotimes = nanotimes[not_overflow]\n",
    "print(\"Detector    Counts\")\n",
    "print(\"--------   --------\")\n",
    "for det, count in zip(*np.unique(detectors, return_counts=True)):\n",
    "    print(\"%8d   %8d\" % (det, count))\n"
   ]
  },
  {
   "cell_type": "code",
   "execution_count": 12,
   "metadata": {
    "scrolled": true
   },
   "outputs": [
    {
     "name": "stdout",
     "output_type": "stream",
     "text": [
      "Saving: Tau_D.h5\n",
      "Photon-HDF5 WARNING: Missing field \"excitation_wavelengths\" in \"/setup\". \n",
      "Photon-HDF5 WARNING: Missing field \"detection_wavelengths\" in \"/setup\". \n"
     ]
    }
   ],
   "source": [
    "measurement_specs = dict(\n",
    "    measurement_type = 'smFRET-nsALEX',\n",
    "    laser_repetition_rate=int(d[3][\"tags\"][\"TTResult_SyncRate\"]['value']),\n",
    "    detectors_specs = {'spectral_ch1': [1],  # list of donor's detector IDs\n",
    "                       'spectral_ch2': [0]},  # list of acceptor's detector IDs\n",
    "    alex_excitation_period1=[10,1240],\n",
    "    alex_excitation_period2=[1260,2490]\n",
    "    )\n",
    "tcspc_num_bins=max(d[2])\n",
    "nanotimes_specs=dict(\n",
    "    tcspc_unit=float(d[3][\"tags\"][\"MeasDesc_Resolution\"]['value']),\n",
    "    tcspc_num_bins=tcspc_num_bins,\n",
    "    tcspc_range=float(d[3][\"tags\"][\"MeasDesc_Resolution\"]['value'])*tcspc_num_bins\n",
    ")\n",
    "photon_data = dict(\n",
    "    timestamps=timestamps,\n",
    "    detectors=detectors,\n",
    "    timestamps_specs={'timestamps_unit': d[3][\"timestamps_unit\"]},\n",
    "    measurement_specs=measurement_specs,\n",
    "    nanotimes_specs=nanotimes_specs,\n",
    "    nanotimes=nanotimes\n",
    ")\n",
    "setup = dict(\n",
    "    ## Mandatory fields\n",
    "    num_pixels = 2,                   # using 2 detectors\n",
    "    num_spots = 1,                    # a single confoca excitation\n",
    "    num_spectral_ch = 2,              # donor and acceptor detection \n",
    "    num_polarization_ch = 1,          # no polarization selection \n",
    "    num_split_ch = 1,                 # no beam splitter\n",
    "    excitation_cw=[False,False],\n",
    "    modulated_excitation = True,     # CW excitation, no modulation \n",
    "    excitation_alternated = [True,True],  # CW excitation, no modulation \n",
    "    lifetime = True                 #  TCSPC in detection\n",
    ")\n",
    "\n",
    "description = 'This is a fake dataset which mimics smFRET data.'\n",
    "\n",
    "author = 'kk'\n",
    "author_affiliation = 'Name of Research Institution'\n",
    "identity = dict(\n",
    "    author=author,\n",
    "    author_affiliation=author_affiliation)\n",
    "data = dict(\n",
    "    description=description,\n",
    "    photon_data = photon_data,\n",
    "    setup=setup,\n",
    "    identity=identity,\n",
    ")\n",
    "phc.hdf5.save_photon_hdf5(data, h5_fname='Tau_D.h5', overwrite=True)"
   ]
  },
  {
   "cell_type": "code",
   "execution_count": 13,
   "metadata": {},
   "outputs": [
    {
     "data": {
      "text/plain": [
       "array([       3157,        3747,        4417, ..., 50008150058,\n",
       "       50008306183, 50008475375])"
      ]
     },
     "execution_count": 13,
     "metadata": {},
     "output_type": "execute_result"
    }
   ],
   "source": [
    "timestamps"
   ]
  },
  {
   "cell_type": "code",
   "execution_count": 14,
   "metadata": {},
   "outputs": [
    {
     "data": {
      "text/plain": [
       "2.50000003337858e-11"
      ]
     },
     "execution_count": 14,
     "metadata": {},
     "output_type": "execute_result"
    }
   ],
   "source": [
    "float(d[3][\"tags\"][\"MeasDesc_Resolution\"]['value'])"
   ]
  },
  {
   "cell_type": "code",
   "execution_count": null,
   "metadata": {},
   "outputs": [],
   "source": []
  }
 ],
 "metadata": {
  "kernelspec": {
   "display_name": "Python 3",
   "language": "python",
   "name": "python3"
  },
  "language_info": {
   "codemirror_mode": {
    "name": "ipython",
    "version": 3
   },
   "file_extension": ".py",
   "mimetype": "text/x-python",
   "name": "python",
   "nbconvert_exporter": "python",
   "pygments_lexer": "ipython3",
   "version": "3.6.4"
  }
 },
 "nbformat": 4,
 "nbformat_minor": 2
}
