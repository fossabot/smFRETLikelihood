{
 "cells": [
  {
   "cell_type": "code",
   "execution_count": 1,
   "metadata": {},
   "outputs": [
    {
     "name": "stdout",
     "output_type": "stream",
     "text": [
      "3.52547123817\n"
     ]
    }
   ],
   "source": [
    "import pickle\n",
    "fn='LS9_150pM_poslineardiUb25c101c_alex488cy5_32MHz_1_[7.1, 4.1, 3.1, 9.1].pickle'\n",
    "\n",
    "dir='/dataB/tmp/lineardiub/'\n",
    "d=pickle.load(open(dir+fn,'rb'))\n",
    "bindata=d[0]\n",
    "print(bindata['chs']['All']['DDstd'])"
   ]
  },
  {
   "cell_type": "code",
   "execution_count": 2,
   "metadata": {},
   "outputs": [
    {
     "name": "stdout",
     "output_type": "stream",
     "text": [
      "4.16752608347\n"
     ]
    }
   ],
   "source": [
    "print(bindata['chs']['All']['DDmean'])"
   ]
  },
  {
   "cell_type": "code",
   "execution_count": 3,
   "metadata": {},
   "outputs": [
    {
     "name": "stdout",
     "output_type": "stream",
     "text": [
      "2.17774079764\n"
     ]
    }
   ],
   "source": [
    "print(bindata['chs']['All']['DAstd'])"
   ]
  },
  {
   "cell_type": "code",
   "execution_count": 4,
   "metadata": {},
   "outputs": [
    {
     "name": "stdout",
     "output_type": "stream",
     "text": [
      "1.93972712681\n"
     ]
    }
   ],
   "source": [
    "print(bindata['chs']['All']['DAmean'])"
   ]
  },
  {
   "cell_type": "code",
   "execution_count": 5,
   "metadata": {},
   "outputs": [
    {
     "name": "stdout",
     "output_type": "stream",
     "text": [
      "2.22785646081\n"
     ]
    }
   ],
   "source": [
    "print(bindata['chs']['All']['AAstd'])"
   ]
  },
  {
   "cell_type": "code",
   "execution_count": 6,
   "metadata": {},
   "outputs": [
    {
     "name": "stdout",
     "output_type": "stream",
     "text": [
      "1.62134831461\n"
     ]
    }
   ],
   "source": [
    "print(bindata['chs']['All']['AAmean'])"
   ]
  },
  {
   "cell_type": "code",
   "execution_count": 7,
   "metadata": {},
   "outputs": [
    {
     "name": "stdout",
     "output_type": "stream",
     "text": [
      "0.00012518124093795313\n"
     ]
    }
   ],
   "source": [
    "print(bindata['chs']['All']['timetag'][0][0]*6.24968751562422e-08)"
   ]
  },
  {
   "cell_type": "code",
   "execution_count": 8,
   "metadata": {},
   "outputs": [
    {
     "name": "stdout",
     "output_type": "stream",
     "text": [
      "2.007026148692566\n"
     ]
    }
   ],
   "source": [
    "print(min(bindata['chs']['All']['timetag'][2000])*6.24968751562422e-08)"
   ]
  },
  {
   "cell_type": "code",
   "execution_count": 9,
   "metadata": {},
   "outputs": [
    {
     "name": "stdout",
     "output_type": "stream",
     "text": [
      "6\n"
     ]
    }
   ],
   "source": [
    "print(len(bindata['chs']['All']['timetag'][2000]))"
   ]
  },
  {
   "cell_type": "code",
   "execution_count": 22,
   "metadata": {},
   "outputs": [
    {
     "name": "stdout",
     "output_type": "stream",
     "text": [
      "7.0\n"
     ]
    }
   ],
   "source": [
    "import numpy as np\n",
    "print(np.percentile(bindata['chs'][\"All\"]['ntag'],50))"
   ]
  },
  {
   "cell_type": "code",
   "execution_count": 18,
   "metadata": {},
   "outputs": [
    {
     "name": "stdout",
     "output_type": "stream",
     "text": [
      "array('l', [9, 9, 3, 4, 1, 2, 5, 12, 6])\n"
     ]
    }
   ],
   "source": [
    "print(bindata['chs'][\"All\"]['ntag'][1:10])"
   ]
  },
  {
   "cell_type": "code",
   "execution_count": null,
   "metadata": {},
   "outputs": [],
   "source": []
  }
 ],
 "metadata": {
  "kernelspec": {
   "display_name": "Python 3",
   "language": "python",
   "name": "python3"
  },
  "language_info": {
   "codemirror_mode": {
    "name": "ipython",
    "version": 3
   },
   "file_extension": ".py",
   "mimetype": "text/x-python",
   "name": "python",
   "nbconvert_exporter": "python",
   "pygments_lexer": "ipython3",
   "version": "3.6.5"
  }
 },
 "nbformat": 4,
 "nbformat_minor": 2
}
