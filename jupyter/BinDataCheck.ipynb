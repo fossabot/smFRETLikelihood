{
 "cells": [
  {
   "cell_type": "code",
   "execution_count": 17,
   "metadata": {},
   "outputs": [
    {
     "name": "stdout",
     "output_type": "stream",
     "text": [
      "3.53162703551\n"
     ]
    }
   ],
   "source": [
    "import pickle\n",
    "fn='LS9_150pM_poslineardiUb25c101c_alex488cy5_32MHz_1_[7.1, 4.1, 3.1, 9.1].pickle'\n",
    "\n",
    "dir='/dataZ1/tmp/lineardiub/'\n",
    "d=pickle.load(open(dir+fn,'rb'))\n",
    "bindata=d[0]\n",
    "print(bindata['chs']['All']['DDstd'])"
   ]
  },
  {
   "cell_type": "code",
   "execution_count": 12,
   "metadata": {},
   "outputs": [
    {
     "name": "stdout",
     "output_type": "stream",
     "text": [
      "4.08660069406\n"
     ]
    }
   ],
   "source": [
    "print(bindata['chs']['All']['DDmean'])"
   ]
  },
  {
   "cell_type": "code",
   "execution_count": 13,
   "metadata": {},
   "outputs": [
    {
     "name": "stdout",
     "output_type": "stream",
     "text": [
      "2.13015867183\n"
     ]
    }
   ],
   "source": [
    "print(bindata['chs']['All']['DAstd'])"
   ]
  },
  {
   "cell_type": "code",
   "execution_count": 14,
   "metadata": {},
   "outputs": [
    {
     "name": "stdout",
     "output_type": "stream",
     "text": [
      "1.83751583591\n"
     ]
    }
   ],
   "source": [
    "print(bindata['chs']['All']['DAmean'])"
   ]
  },
  {
   "cell_type": "code",
   "execution_count": 15,
   "metadata": {},
   "outputs": [
    {
     "name": "stdout",
     "output_type": "stream",
     "text": [
      "2.06231643244\n"
     ]
    }
   ],
   "source": [
    "print(bindata['chs']['All']['AAstd'])"
   ]
  },
  {
   "cell_type": "code",
   "execution_count": 16,
   "metadata": {},
   "outputs": [
    {
     "name": "stdout",
     "output_type": "stream",
     "text": [
      "1.46585734863\n"
     ]
    }
   ],
   "source": [
    "print(bindata['chs']['All']['AAmean'])"
   ]
  },
  {
   "cell_type": "code",
   "execution_count": null,
   "metadata": {
    "collapsed": true
   },
   "outputs": [],
   "source": []
  }
 ],
 "metadata": {
  "kernelspec": {
   "display_name": "Python 3",
   "language": "python",
   "name": "python3"
  },
  "language_info": {
   "codemirror_mode": {
    "name": "ipython",
    "version": 3
   },
   "file_extension": ".py",
   "mimetype": "text/x-python",
   "name": "python",
   "nbconvert_exporter": "python",
   "pygments_lexer": "ipython3",
   "version": "3.6.3"
  }
 },
 "nbformat": 4,
 "nbformat_minor": 2
}
