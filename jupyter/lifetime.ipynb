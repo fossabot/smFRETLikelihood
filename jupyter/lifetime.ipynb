{
 "cells": [
  {
   "cell_type": "code",
   "execution_count": 1,
   "metadata": {},
   "outputs": [
    {
     "name": "stdout",
     "output_type": "stream",
     "text": [
      " - Optimized (cython) burst search loaded.\n",
      " - Optimized (cython) photon counting loaded.\n",
      "--------------------------------------------------------------\n",
      " You are running FRETBursts (version 0.6.5+7.g10955f6).\n",
      "\n",
      " If you use this software please cite the following paper:\n",
      "\n",
      "   FRETBursts: An Open Source Toolkit for Analysis of Freely-Diffusing Single-Molecule FRET\n",
      "   Ingargiola et al. (2016). http://dx.doi.org/10.1371/journal.pone.0160716 \n",
      "\n",
      "--------------------------------------------------------------\n",
      "# Total photons (after ALEX selection):    28,822,970\n",
      "#  D  photons in D+A excitation periods:   14,784,567\n",
      "#  A  photons in D+A excitation periods:   14,038,403\n",
      "# D+A photons in  D  excitation period:    21,713,037\n",
      "# D+A photons in  A  excitation period:     7,109,933\n",
      "\n",
      " - Calculating BG rates ... [DONE]\n",
      " - Performing burst search (verbose=False) ...[DONE]\n",
      " - Calculating burst periods ...[DONE]\n",
      " - Counting D and A ph and calculating FRET ... \n",
      "   - Applying background correction.\n",
      "   [DONE Counting D/A]\n",
      " - - - - - CHANNEL  1 - - - - \n",
      " --> END Fused 203 bursts (2.5%, 3 iter)\n",
      "\n",
      " - Counting D and A ph and calculating FRET ... \n",
      "   - Applying background correction.\n",
      "   [DONE Counting D/A and FRET]\n",
      "\n",
      "Number of bursts: 6286\n"
     ]
    }
   ],
   "source": [
    "\n",
    "# coding: utf-8\n",
    "\n",
    "import numpy as np\n",
    "from fretbursts import *\n",
    "# sns = init_notebook()\n",
    "full_fname='LS3.h5'\n",
    "d = loader.photon_hdf5(full_fname)\n",
    "# bpl.plot_alternation_hist(d)\n",
    "loader.alex_apply_period(d)\n",
    "d.calc_bg(fun=bg.exp_fit, time_s=10, tail_min_us='auto', F_bg=2)\n",
    "# dplot(d, timetrace_bg)\n",
    "# dplot(d, timetrace)\n",
    "# xlim(10, 20)\n",
    "# ylim(-50, 50)\n",
    "d.burst_search()\n",
    "\n",
    "ds = d.select_bursts(select_bursts.size, th1=30)\n",
    "dsfuse = ds.fuse_bursts(ms=0)\n",
    "# dsfuse.leakage = 0.07\n",
    "# alex_jointplot(dsfuse)\n",
    "# dplot(dsfuse, hist_fret, show_kde=True)\n",
    "\n",
    "nanotimes = d.nanotimes[0]\n",
    "# nanotimes_d = nanotimes[d.get_D_em()]\n",
    "# nanotimes_a = nanotimes[d.get_A_em()]\n",
    "nanotimes_dd = nanotimes[d.get_D_em_D_ex()]\n",
    "\n",
    "\n",
    "# hist_params = dict(bins=range(3000), histtype='step', alpha=0.6, lw=1.5)\n",
    "# #hist(nanotimes, color='k', label='Total ph.', **hist_params)\n",
    "# hist(nanotimes_d, color='g', label='D. em. ph.', **hist_params)\n",
    "# hist(nanotimes_a, color='r', label='A. em. ph.', **hist_params)\n",
    "# plt.legend()\n",
    "# plt.yscale('log')\n",
    "\n",
    "roi = dict(E1=0, E2=1, S1=0.0, S2=1, rect=False)\n",
    "d_fret_mix = dsfuse.select_bursts(select_bursts.ES, **roi)\n",
    "# g = alex_jointplot(d_fret_mix)\n",
    "# bpl.plot_ES_selection(g.ax_joint, **roi);\n",
    "\n",
    "# dplot(d_fret_mix, hist_fret, show_kde=True)\n",
    "from fretbursts.phtools.burstsearch import Burst, Bursts\n",
    "times = d.ph_times_m[0]  # timestamps array\n",
    "bursts = d_fret_mix.mburst[0]\n",
    "print('\\nNumber of bursts:', bursts.num_bursts)"
   ]
  },
  {
   "cell_type": "code",
   "execution_count": 2,
   "metadata": {},
   "outputs": [
    {
     "data": {
      "text/plain": [
       "6.249687515624219e-08"
      ]
     },
     "execution_count": 2,
     "metadata": {},
     "output_type": "execute_result"
    }
   ],
   "source": [
    "d.clk_p"
   ]
  },
  {
   "cell_type": "code",
   "execution_count": 3,
   "metadata": {},
   "outputs": [
    {
     "name": "stderr",
     "output_type": "stream",
     "text": [
      "/home/liuk/.local/lib64/python3.5/site-packages/ipykernel_launcher.py:56: RuntimeWarning: invalid value encountered in true_divide\n"
     ]
    }
   ],
   "source": [
    "time_bin = 2e-3  # 0.5 ms\n",
    "time_bin_clk = time_bin / ds.clk_p\n",
    "\n",
    "sub_bursts_list = []\n",
    "fbin=[]\n",
    "\n",
    "for burst in bursts:\n",
    "    # Compute binning of current bursts\n",
    "    bins = np.arange(burst.start, burst.stop + time_bin_clk, time_bin_clk)\n",
    "    counts, _ = np.histogram(times[burst.istart:burst.istop+1], bins)\n",
    "    \n",
    "    # From `counts` in each bin, find start-stop times and indexes (sub-burst).\n",
    "    # Note that start and stop are the min and max timestamps in the bin,\n",
    "    # therefore they are not on the bin edges. Also the burst width is not\n",
    "    # exactly equal to the bin width.\n",
    "    sub_bursts_l = []\n",
    "    sub_start = burst.start\n",
    "    sub_istart = burst.istart\n",
    "    sub_fbin=[]\n",
    "    for count in counts:\n",
    "        # Let's skip bins with 0 photons\n",
    "        if count == 0:\n",
    "            continue            \n",
    "        sub_istop = sub_istart + count - 1\n",
    "        sub_bursts_l.append(Burst(istart=sub_istart, istop=sub_istop,\n",
    "                                  start=sub_start, stop=times[sub_istop]))\n",
    "        # if len(nanotimes_dd[sub_istart:sub_istop])>0:\n",
    "        sub_fbin.append(dict(ns=nanotimes[sub_istart:sub_istop],\n",
    "            ms=times[sub_istart:sub_istop],istart=sub_istart,istop=sub_istop))\n",
    "        sub_istart += count \n",
    "        sub_start = times[sub_istart]\n",
    "    fbin.append(sub_fbin)\n",
    "    sub_bursts = Bursts.from_list(sub_bursts_l)\n",
    "    assert sub_bursts.num_bursts > 0\n",
    "    assert sub_bursts.width.max() < time_bin_clk\n",
    "    sub_bursts_list.append(sub_bursts)\n",
    "\n",
    "\n",
    "gamma=0.31        \n",
    "beta=1.42\n",
    "DexDirAem=0.08\n",
    "Dch2Ach=0.07 \n",
    "mask_dd = d.get_ph_mask(ph_sel=Ph_sel(Dex='Dem'))   # donor excitation, donor emission\n",
    "mask_ad = d.get_ph_mask(ph_sel=Ph_sel(Dex='Aem'))   # donor excitation, acceptor emission\n",
    "mask_aa = d.get_ph_mask(ph_sel=Ph_sel(Aex='Aem'))   # acceptor excitation, acceptor emission\n",
    "from fretbursts.phtools.burstsearch import count_ph_in_bursts\n",
    "\n",
    "PR=[]\n",
    "Tau=[]\n",
    "\n",
    "i=-1\n",
    "for bursts in sub_bursts_list:\n",
    "    counts_dd = count_ph_in_bursts(bursts, mask_dd)\n",
    "    counts_ad = count_ph_in_bursts(bursts, mask_ad)\n",
    "    counts_aa = count_ph_in_bursts(bursts, mask_aa)\n",
    "    pr=((counts_ad *(1-DexDirAem)-Dch2Ach*counts_dd)/ ((gamma-\\\n",
    "                            Dch2Ach)*counts_dd + (1-DexDirAem)*counts_ad)).tolist()\n",
    "    i=i+1\n",
    "    j=-1\n",
    "    for fe in pr:\n",
    "        j=j+1\n",
    "        if np.isnan(fe):\n",
    "\n",
    "            continue\n",
    "        elif len(fbin[i][j]['ns'])>0:\n",
    "            liftt=((np.mean(fbin[i][j]['ns'])*2.5e-2)-6.8695)/4.2\n",
    "            if liftt<=1 and liftt>=0:\n",
    "                PR.append( fe)\n",
    "                Tau.append(liftt)\n",
    "\n",
    "        \n",
    "assert len(PR)==len(Tau)"
   ]
  },
  {
   "cell_type": "code",
   "execution_count": 4,
   "metadata": {},
   "outputs": [
    {
     "data": {
      "image/png": "[encoded data removed]",
      "text/plain": [
       "<matplotlib.figure.Figure at 0x7f1adaaca860>"
      ]
     },
     "metadata": {},
     "output_type": "display_data"
    }
   ],
   "source": [
    "import pandas as pd\n",
    "df=pd.DataFrame(dict(PR = PR, Tau = Tau))\n",
    "import seaborn as sns\n",
    "sns.set(style=\"white\")\n",
    "# g = sns.JointGrid()\n",
    "g = sns.jointplot(x='PR', y='Tau',data=df, kind=\"kde\", size=7, space=0)"
   ]
  },
  {
   "cell_type": "code",
   "execution_count": 5,
   "metadata": {},
   "outputs": [
    {
     "data": {
      "image/png": "[encoded data removed]",
      "text/plain": [
       "<matplotlib.figure.Figure at 0x7f1ad8661e80>"
      ]
     },
     "metadata": {},
     "output_type": "display_data"
    }
   ],
   "source": [
    "H, xedges, yedges = np.histogram2d(PR,Tau, bins=(30,30))\n",
    "import matplotlib.cm as cm\n",
    "import matplotlib.pyplot as plt\n",
    "fig,ax=plt.subplots(2,1)\n",
    "im=ax[1].imshow(H.transpose()[::-1], interpolation='sinc', \\\n",
    "                   cmap=cm.jet,extent=[xedges[0],xedges[-1],yedges[0],yedges[-1]])\n",
    "# ax[1].set_title(title)\n",
    "fig.colorbar(im)                       \n",
    "\n",
    "# import matplotlib.pyplot as plt\n",
    "ax[0].hist(PR, bins=40) \n",
    "# plt.title(title)\n",
    "plt.show()"
   ]
  },
  {
   "cell_type": "code",
   "execution_count": 6,
   "metadata": {},
   "outputs": [
    {
     "data": {
      "text/plain": [
       "32001.6"
      ]
     },
     "execution_count": 6,
     "metadata": {},
     "output_type": "execute_result"
    }
   ],
   "source": [
    "time_bin_clk"
   ]
  },
  {
   "cell_type": "code",
   "execution_count": null,
   "metadata": {},
   "outputs": [],
   "source": []
  }
 ],
 "metadata": {
  "kernelspec": {
   "display_name": "Python 3",
   "language": "python",
   "name": "python3"
  },
  "language_info": {
   "codemirror_mode": {
    "name": "ipython",
    "version": 3
   },
   "file_extension": ".py",
   "mimetype": "text/x-python",
   "name": "python",
   "nbconvert_exporter": "python",
   "pygments_lexer": "ipython3",
   "version": "3.5.4"
  }
 },
 "nbformat": 4,
 "nbformat_minor": 2
}
