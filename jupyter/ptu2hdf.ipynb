{
 "cells": [
  {
   "cell_type": "code",
   "execution_count": 2,
   "metadata": {},
   "outputs": [
    {
     "name": "stdout",
     "output_type": "stream",
     "text": [
      "phconvert version: 0.8.1\n"
     ]
    }
   ],
   "source": [
    "%matplotlib inline\n",
    "import numpy as np\n",
    "import phconvert as phc\n",
    "print('phconvert version: ' + phc.__version__)\n",
    "f=\"/dataB/smfretData/LS33_RSV21c224c_alex488cy5_32MHZ 1.ptu\"\n",
    "d=phc.pqreader.load_ptu(f)"
   ]
  },
  {
   "cell_type": "code",
   "execution_count": 3,
   "metadata": {},
   "outputs": [
    {
     "name": "stdout",
     "output_type": "stream",
     "text": [
      "49611150\n"
     ]
    }
   ],
   "source": [
    "print(len(d[0]))"
   ]
  },
  {
   "cell_type": "code",
   "execution_count": 4,
   "metadata": {},
   "outputs": [
    {
     "name": "stdout",
     "output_type": "stream",
     "text": [
      "49611150\n"
     ]
    }
   ],
   "source": [
    "print(len(d[1]))"
   ]
  },
  {
   "cell_type": "code",
   "execution_count": 5,
   "metadata": {},
   "outputs": [
    {
     "name": "stdout",
     "output_type": "stream",
     "text": [
      "49611150\n"
     ]
    }
   ],
   "source": [
    "print(len(d[2]))"
   ]
  },
  {
   "cell_type": "code",
   "execution_count": 6,
   "metadata": {},
   "outputs": [
    {
     "name": "stdout",
     "output_type": "stream",
     "text": [
      "4\n"
     ]
    }
   ],
   "source": [
    "print(len(d[3]))"
   ]
  },
  {
   "cell_type": "code",
   "execution_count": 7,
   "metadata": {},
   "outputs": [
    {
     "name": "stdout",
     "output_type": "stream",
     "text": [
      "{\n",
      "    \"timestamps_unit\": 6.249687515624219e-08,\n",
      "    \"nanotimes_unit\": 2.50000003337858e-11,\n",
      "    \"acquisition_duration\": 36000.0,\n",
      "    \"tags\": {\n",
      "        \"File_GUID\": {\n",
      "            \"idx\": -1,\n",
      "            \"type\": \"tyAnsiString\",\n",
      "            \"value\": 40,\n",
      "            \"data\": \"{ED7D5D2E-082F-43FC-A5C8-BC0CA22D831E}\"\n",
      "        },\n",
      "        \"File_CreatingTime\": {\n",
      "            \"idx\": -1,\n",
      "            \"type\": \"tyTDateTime\",\n",
      "            \"value\": \"2017-07-03 17:19:26\"\n",
      "        },\n",
      "        \"$StartedByRemoteInterface\": {\n",
      "            \"idx\": -1,\n",
      "            \"type\": \"tyBool8\",\n",
      "            \"value\": true\n",
      "        },\n",
      "        \"Measurement_SubMode\": {\n",
      "            \"idx\": -1,\n",
      "            \"type\": \"tyInt8\",\n",
      "            \"value\": 1\n",
      "        },\n",
      "        \"File_Comment\": {\n",
      "            \"idx\": -1,\n",
      "            \"type\": \"tyAnsiString\",\n",
      "            \"value\": 176,\n",
      "            \"data\": \"{First Dichroic Mirror}: 405/488/561/640\\r\\n{Pinhole Size(um)}: 99.6\\r\\n{Scan Direction}: One way\\r\\n{Scanner Zoom}: 1.000\\r\\n{Scan Speed}: 128\\r\\n{Optics}: Plan Apo IR 60x WI DIC N2\"\n",
      "        },\n",
      "        \"TTResult_StopReason\": {\n",
      "            \"idx\": -1,\n",
      "            \"type\": \"tyInt8\",\n",
      "            \"value\": 1\n",
      "        },\n",
      "        \"Fast_Load_End\": {\n",
      "            \"idx\": -1,\n",
      "            \"type\": \"tyEmpty8\",\n",
      "            \"value\": 0\n",
      "        },\n",
      "        \"CreatorSW_Name\": {\n",
      "            \"idx\": -1,\n",
      "            \"type\": \"tyAnsiString\",\n",
      "            \"value\": 16,\n",
      "            \"data\": \"SymPhoTime 64\"\n",
      "        },\n",
      "        \"CreatorSW_Version\": {\n",
      "            \"idx\": -1,\n",
      "            \"type\": \"tyAnsiString\",\n",
      "            \"value\": 8,\n",
      "            \"data\": \"2.1\"\n",
      "        },\n",
      "        \"CreatorSW_SVNBuild\": {\n",
      "            \"idx\": -1,\n",
      "            \"type\": \"tyInt8\",\n",
      "            \"value\": 3764\n",
      "        },\n",
      "        \"CreatorSW_Modules\": {\n",
      "            \"idx\": -1,\n",
      "            \"type\": \"tyInt8\",\n",
      "            \"value\": 0\n",
      "        },\n",
      "        \"$ReqHdr_RecordVersion\": {\n",
      "            \"idx\": -1,\n",
      "            \"type\": \"tyInt8\",\n",
      "            \"value\": 16777728\n",
      "        },\n",
      "        \"$ReqHdr_MeasurementType\": {\n",
      "            \"idx\": -1,\n",
      "            \"type\": \"tyInt8\",\n",
      "            \"value\": 0\n",
      "        },\n",
      "        \"$Comment\": {\n",
      "            \"idx\": -1,\n",
      "            \"type\": \"tyAnsiString\",\n",
      "            \"value\": 176,\n",
      "            \"data\": \"{First Dichroic Mirror}: 405/488/561/640\\r\\n{Pinhole Size(um)}: 99.6\\r\\n{Scan Direction}: One way\\r\\n{Scanner Zoom}: 1.000\\r\\n{Scan Speed}: 128\\r\\n{Optics}: Plan Apo IR 60x WI DIC N2\"\n",
      "        },\n",
      "        \"$Groupname\": {\n",
      "            \"idx\": -1,\n",
      "            \"type\": \"tyAnsiString\",\n",
      "            \"value\": 16,\n",
      "            \"data\": \"RSV20170703\"\n",
      "        },\n",
      "        \"$Filename\": {\n",
      "            \"idx\": -1,\n",
      "            \"type\": \"tyAnsiString\",\n",
      "            \"value\": 40,\n",
      "            \"data\": \"LS33_RSV21c224c_alex488cy5_32MHZ 1\"\n",
      "        },\n",
      "        \"ImgHdr_Dimensions\": {\n",
      "            \"idx\": -1,\n",
      "            \"type\": \"tyInt8\",\n",
      "            \"value\": 1\n",
      "        },\n",
      "        \"ImgHdr_Ident\": {\n",
      "            \"idx\": -1,\n",
      "            \"type\": \"tyInt8\",\n",
      "            \"value\": 3\n",
      "        },\n",
      "        \"UsrPulseCfg\": {\n",
      "            \"idx\": -1,\n",
      "            \"type\": \"tyAnsiString\",\n",
      "            \"value\": 8,\n",
      "            \"data\": \"PIE\"\n",
      "        },\n",
      "        \"UsrPulseCfgIdx\": {\n",
      "            \"idx\": -1,\n",
      "            \"type\": \"tyInt8\",\n",
      "            \"value\": 1\n",
      "        },\n",
      "        \"UsrHeadName\": {\n",
      "            \"idx\": 1,\n",
      "            \"type\": \"tyAnsiString\",\n",
      "            \"value\": 24,\n",
      "            \"data\": \"639.0nm (LDH-P-C-640)\"\n",
      "        },\n",
      "        \"Sep2_SerialNo\": {\n",
      "            \"idx\": 1174384,\n",
      "            \"type\": \"tyInt8\",\n",
      "            \"value\": 1020627\n",
      "        },\n",
      "        \"Sep2_FirmwareVersion\": {\n",
      "            \"idx\": 1174384,\n",
      "            \"type\": \"tyInt8\",\n",
      "            \"value\": 1\n",
      "        },\n",
      "        \"Sep2_SCM_000_SerialNo\": {\n",
      "            \"idx\": 1174384,\n",
      "            \"type\": \"tyInt8\",\n",
      "            \"value\": 1017943\n",
      "        },\n",
      "        \"Sep2_SOM_100_SerialNo\": {\n",
      "            \"idx\": 1174384,\n",
      "            \"type\": \"tyInt8\",\n",
      "            \"value\": 1020576\n",
      "        },\n",
      "        \"Sep2_SOM_100_BaseOscFreq\": {\n",
      "            \"idx\": 1174384,\n",
      "            \"type\": \"tyInt8\",\n",
      "            \"value\": 64000000\n",
      "        },\n",
      "        \"Sep2_SOM_100_Divider\": {\n",
      "            \"idx\": 1174384,\n",
      "            \"type\": \"tyInt8\",\n",
      "            \"value\": 2\n",
      "        },\n",
      "        \"Sep2_SOM_100_PreSync\": {\n",
      "            \"idx\": 1174384,\n",
      "            \"type\": \"tyInt8\",\n",
      "            \"value\": 0\n",
      "        },\n",
      "        \"Sep2_SOM_100_SyncMask\": {\n",
      "            \"idx\": 1174384,\n",
      "            \"type\": \"tyInt8\",\n",
      "            \"value\": 1\n",
      "        },\n",
      "        \"Sep2_SOM_100_InvSyncMask\": {\n",
      "            \"idx\": 1174384,\n",
      "            \"type\": \"tyInt8\",\n",
      "            \"value\": -1\n",
      "        },\n",
      "        \"Sep2_SOM_100_Seq_BurstLen\": {\n",
      "            \"idx\": 7,\n",
      "            \"type\": \"tyInt8\",\n",
      "            \"value\": 0\n",
      "        },\n",
      "        \"Sep2_SOM_100_Seq_EnaOutput\": {\n",
      "            \"idx\": 7,\n",
      "            \"type\": \"tyInt8\",\n",
      "            \"value\": -1\n",
      "        },\n",
      "        \"Sep2_SOM_100_Seq_EnaSync\": {\n",
      "            \"idx\": 7,\n",
      "            \"type\": \"tyInt8\",\n",
      "            \"value\": 0\n",
      "        },\n",
      "        \"Sep2_SLM_200_SerialNo\": {\n",
      "            \"idx\": 0,\n",
      "            \"type\": \"tyInt8\",\n",
      "            \"value\": 1021097\n",
      "        },\n",
      "        \"Sep2_SLM_200_TriggerIndex\": {\n",
      "            \"idx\": 0,\n",
      "            \"type\": \"tyInt8\",\n",
      "            \"value\": 7\n",
      "        },\n",
      "        \"Sep2_SLM_200_FineIntensity\": {\n",
      "            \"idx\": 0,\n",
      "            \"type\": \"tyInt8\",\n",
      "            \"value\": 97\n",
      "        },\n",
      "        \"Sep2_SLM_200_CW_PulseDisable\": {\n",
      "            \"idx\": 0,\n",
      "            \"type\": \"tyInt8\",\n",
      "            \"value\": 0\n",
      "        },\n",
      "        \"Sep2_SLM_200_HeadType\": {\n",
      "            \"idx\": 0,\n",
      "            \"type\": \"tyInt8\",\n",
      "            \"value\": 0\n",
      "        },\n",
      "        \"Sep2_SLM_300_SerialNo\": {\n",
      "            \"idx\": 1,\n",
      "            \"type\": \"tyInt8\",\n",
      "            \"value\": 1021098\n",
      "        },\n",
      "        \"Sep2_SLM_300_TriggerIndex\": {\n",
      "            \"idx\": 1,\n",
      "            \"type\": \"tyInt8\",\n",
      "            \"value\": 7\n",
      "        },\n",
      "        \"Sep2_SLM_300_FineIntensity\": {\n",
      "            \"idx\": 1,\n",
      "            \"type\": \"tyInt8\",\n",
      "            \"value\": 52\n",
      "        },\n",
      "        \"Sep2_SLM_300_CW_PulseDisable\": {\n",
      "            \"idx\": 1,\n",
      "            \"type\": \"tyInt8\",\n",
      "            \"value\": 0\n",
      "        },\n",
      "        \"Sep2_SLM_300_HeadType\": {\n",
      "            \"idx\": 1,\n",
      "            \"type\": \"tyInt8\",\n",
      "            \"value\": 0\n",
      "        },\n",
      "        \"Measurement_Mode\": {\n",
      "            \"idx\": -1,\n",
      "            \"type\": \"tyInt8\",\n",
      "            \"value\": 3\n",
      "        },\n",
      "        \"HW_Type\": {\n",
      "            \"idx\": -1,\n",
      "            \"type\": \"tyAnsiString\",\n",
      "            \"value\": 16,\n",
      "            \"data\": \"TimeHarp260P\"\n",
      "        },\n",
      "        \"HW_SerialNo\": {\n",
      "            \"idx\": -1,\n",
      "            \"type\": \"tyAnsiString\",\n",
      "            \"value\": 8,\n",
      "            \"data\": \"1020408\"\n",
      "        },\n",
      "        \"HW_Version\": {\n",
      "            \"idx\": -1,\n",
      "            \"type\": \"tyAnsiString\",\n",
      "            \"value\": 16,\n",
      "            \"data\": \"0111-0422-01.02\"\n",
      "        },\n",
      "        \"HW_ExternalRefClock\": {\n",
      "            \"idx\": -1,\n",
      "            \"type\": \"tyBool8\",\n",
      "            \"value\": false\n",
      "        },\n",
      "        \"HW_Modules\": {\n",
      "            \"idx\": -1,\n",
      "            \"type\": \"tyInt8\",\n",
      "            \"value\": 1\n",
      "        },\n",
      "        \"HWModule_TypeCode\": {\n",
      "            \"idx\": 0,\n",
      "            \"type\": \"tyInt8\",\n",
      "            \"value\": 1000\n",
      "        },\n",
      "        \"HWModule_VersCode\": {\n",
      "            \"idx\": 0,\n",
      "            \"type\": \"tyInt8\",\n",
      "            \"value\": 17891332\n",
      "        },\n",
      "        \"HW_Markers\": {\n",
      "            \"idx\": -1,\n",
      "            \"type\": \"tyInt8\",\n",
      "            \"value\": 4\n",
      "        },\n",
      "        \"HWMarkers_Enabled\": {\n",
      "            \"idx\": 3,\n",
      "            \"type\": \"tyBool8\",\n",
      "            \"value\": true\n",
      "        },\n",
      "        \"HWMarkers_RisingEdge\": {\n",
      "            \"idx\": 3,\n",
      "            \"type\": \"tyBool8\",\n",
      "            \"value\": false\n",
      "        },\n",
      "        \"HWMarkers_HoldOff\": {\n",
      "            \"idx\": -1,\n",
      "            \"type\": \"tyInt8\",\n",
      "            \"value\": 0\n",
      "        },\n",
      "        \"HW_BaseResolution\": {\n",
      "            \"idx\": -1,\n",
      "            \"type\": \"tyFloat8\",\n",
      "            \"value\": 2.50000003337858e-11\n",
      "        },\n",
      "        \"MeasDesc_BinningFactor\": {\n",
      "            \"idx\": -1,\n",
      "            \"type\": \"tyInt8\",\n",
      "            \"value\": 1\n",
      "        },\n",
      "        \"MeasDesc_Resolution\": {\n",
      "            \"idx\": -1,\n",
      "            \"type\": \"tyFloat8\",\n",
      "            \"value\": 2.50000003337858e-11\n",
      "        },\n",
      "        \"HWSync_CFDLevel\": {\n",
      "            \"idx\": -1,\n",
      "            \"type\": \"tyInt8\",\n",
      "            \"value\": -100\n",
      "        },\n",
      "        \"HWSync_CFDZeroCross\": {\n",
      "            \"idx\": -1,\n",
      "            \"type\": \"tyInt8\",\n",
      "            \"value\": -10\n",
      "        },\n",
      "        \"HWSync_Offset\": {\n",
      "            \"idx\": -1,\n",
      "            \"type\": \"tyInt8\",\n",
      "            \"value\": 3500\n",
      "        },\n",
      "        \"HWSync_Divider\": {\n",
      "            \"idx\": -1,\n",
      "            \"type\": \"tyInt8\",\n",
      "            \"value\": 8\n",
      "        },\n",
      "        \"HW_InpChannels\": {\n",
      "            \"idx\": -1,\n",
      "            \"type\": \"tyInt8\",\n",
      "            \"value\": 3\n",
      "        },\n",
      "        \"HWInpChan_CFDLevel\": {\n",
      "            \"idx\": 1,\n",
      "            \"type\": \"tyInt8\",\n",
      "            \"value\": -50\n",
      "        },\n",
      "        \"HWInpChan_CFDZeroCross\": {\n",
      "            \"idx\": 1,\n",
      "            \"type\": \"tyInt8\",\n",
      "            \"value\": -10\n",
      "        },\n",
      "        \"HWInpChan_Offset\": {\n",
      "            \"idx\": 1,\n",
      "            \"type\": \"tyInt8\",\n",
      "            \"value\": 0\n",
      "        },\n",
      "        \"HWInpChan_Enabled\": {\n",
      "            \"idx\": 1,\n",
      "            \"type\": \"tyBool8\",\n",
      "            \"value\": true\n",
      "        },\n",
      "        \"HWInpChan_ModuleIdx\": {\n",
      "            \"idx\": 1,\n",
      "            \"type\": \"tyInt8\",\n",
      "            \"value\": 1\n",
      "        },\n",
      "        \"TTResult_SyncRate\": {\n",
      "            \"idx\": -1,\n",
      "            \"type\": \"tyInt8\",\n",
      "            \"value\": 16000800\n",
      "        },\n",
      "        \"TTResult_InputRate\": {\n",
      "            \"idx\": 1,\n",
      "            \"type\": \"tyInt8\",\n",
      "            \"value\": 3940\n",
      "        },\n",
      "        \"MeasDesc_GlobalResolution\": {\n",
      "            \"idx\": -1,\n",
      "            \"type\": \"tyFloat8\",\n",
      "            \"value\": 6.249687515624219e-08\n",
      "        },\n",
      "        \"TTResult_NumberOfRecords\": {\n",
      "            \"idx\": -1,\n",
      "            \"type\": \"tyInt8\",\n",
      "            \"value\": 49611150\n",
      "        },\n",
      "        \"MeasDesc_AcquisitionTime\": {\n",
      "            \"idx\": -1,\n",
      "            \"type\": \"tyInt8\",\n",
      "            \"value\": 36000000\n",
      "        },\n",
      "        \"TTResult_StopAfter\": {\n",
      "            \"idx\": -1,\n",
      "            \"type\": \"tyInt8\",\n",
      "            \"value\": 3600051\n",
      "        },\n",
      "        \"TTResultFormat_TTTRRecType\": {\n",
      "            \"idx\": -1,\n",
      "            \"type\": \"tyInt8\",\n",
      "            \"value\": 66310\n",
      "        },\n",
      "        \"TTResultFormat_BitsPerRecord\": {\n",
      "            \"idx\": -1,\n",
      "            \"type\": \"tyInt8\",\n",
      "            \"value\": 32\n",
      "        },\n",
      "        \"Header_End\": {\n",
      "            \"idx\": -1,\n",
      "            \"type\": \"tyEmpty8\",\n",
      "            \"value\": 0\n",
      "        }\n",
      "    }\n",
      "}\n"
     ]
    }
   ],
   "source": [
    "import json\n",
    "#parsed = json.loads(d[3])\n",
    "print(json.dumps(d[3],indent=4))"
   ]
  },
  {
   "cell_type": "code",
   "execution_count": 8,
   "metadata": {},
   "outputs": [
    {
     "name": "stdout",
     "output_type": "stream",
     "text": [
      "16000800\n",
      "1.0000000624968752\n"
     ]
    }
   ],
   "source": [
    "print(int(d[3][\"tags\"][\"TTResult_SyncRate\"]['value']))\n",
    "print(d[3][\"timestamps_unit\"]+1)"
   ]
  },
  {
   "cell_type": "code",
   "execution_count": 9,
   "metadata": {},
   "outputs": [
    {
     "data": {
      "text/plain": [
       "(array([ 20762645.,     22722.,     22985.,     25220.,     25692.,\n",
       "            33544.,     66985.,     62012.,     48243.,     47096.,\n",
       "            45808.,   1563987.,   4528991.,   3268525.,   2208127.,\n",
       "          1683180.,   1278151.,   1064910.,    857474.,    696707.,\n",
       "           549355.,    476401.,    396670.,    332828.,    270785.,\n",
       "           240885.,    206411.,    178493.,    149824.,    137325.,\n",
       "           120842.,    107530.,     92671.,     86750.,     79891.,\n",
       "            72522.,     63939.,     62056.,     57816.,     53758.,\n",
       "            48829.,     47948.,     45487.,     43589.,     39825.,\n",
       "            39944.,     38539.,     36748.,     34462.,     34913.,\n",
       "            34065.,     33694.,     31353.,     31595.,     32165.,\n",
       "            31612.,     31536.,     37384.,     53941.,     33491.,\n",
       "            30528.,     31700.,     30606.,     60995.,   1505964.,\n",
       "          1471890.,    945242.,    620197.,    407130.,    297820.,\n",
       "           212712.,    155294.,    113707.,     91647.,     72867.,\n",
       "            60008.,     48166.,     43435.,     38322.,     35148.,\n",
       "            31136.,     30303.,     28877.,     27622.,     25969.,\n",
       "            26272.,     25810.,     25185.,     23953.,     24518.,\n",
       "            24473.,     23992.,     23144.,     23821.,     23895.,\n",
       "            23282.,     22761.,     23068.,     23355.,     22842.,\n",
       "            22618.]),\n",
       " array([    0.        ,    24.75247525,    49.5049505 ,    74.25742574,\n",
       "           99.00990099,   123.76237624,   148.51485149,   173.26732673,\n",
       "          198.01980198,   222.77227723,   247.52475248,   272.27722772,\n",
       "          297.02970297,   321.78217822,   346.53465347,   371.28712871,\n",
       "          396.03960396,   420.79207921,   445.54455446,   470.2970297 ,\n",
       "          495.04950495,   519.8019802 ,   544.55445545,   569.30693069,\n",
       "          594.05940594,   618.81188119,   643.56435644,   668.31683168,\n",
       "          693.06930693,   717.82178218,   742.57425743,   767.32673267,\n",
       "          792.07920792,   816.83168317,   841.58415842,   866.33663366,\n",
       "          891.08910891,   915.84158416,   940.59405941,   965.34653465,\n",
       "          990.0990099 ,  1014.85148515,  1039.6039604 ,  1064.35643564,\n",
       "         1089.10891089,  1113.86138614,  1138.61386139,  1163.36633663,\n",
       "         1188.11881188,  1212.87128713,  1237.62376238,  1262.37623762,\n",
       "         1287.12871287,  1311.88118812,  1336.63366337,  1361.38613861,\n",
       "         1386.13861386,  1410.89108911,  1435.64356436,  1460.3960396 ,\n",
       "         1485.14851485,  1509.9009901 ,  1534.65346535,  1559.40594059,\n",
       "         1584.15841584,  1608.91089109,  1633.66336634,  1658.41584158,\n",
       "         1683.16831683,  1707.92079208,  1732.67326733,  1757.42574257,\n",
       "         1782.17821782,  1806.93069307,  1831.68316832,  1856.43564356,\n",
       "         1881.18811881,  1905.94059406,  1930.69306931,  1955.44554455,\n",
       "         1980.1980198 ,  2004.95049505,  2029.7029703 ,  2054.45544554,\n",
       "         2079.20792079,  2103.96039604,  2128.71287129,  2153.46534653,\n",
       "         2178.21782178,  2202.97029703,  2227.72277228,  2252.47524752,\n",
       "         2277.22772277,  2301.98019802,  2326.73267327,  2351.48514851,\n",
       "         2376.23762376,  2400.99009901,  2425.74257426,  2450.4950495 ,\n",
       "         2475.24752475,  2500.        ]),\n",
       " <a list of 101 Patch objects>)"
      ]
     },
     "execution_count": 9,
     "metadata": {},
     "output_type": "execute_result"
    },
    {
     "data": {
      "image/png": "[encoded data removed]",
      "text/plain": [
       "<matplotlib.figure.Figure at 0x7fde786477b8>"
      ]
     },
     "metadata": {},
     "output_type": "display_data"
    }
   ],
   "source": [
    "import matplotlib\n",
    "matplotlib.pyplot.hist(d[2],101)"
   ]
  },
  {
   "cell_type": "code",
   "execution_count": 10,
   "metadata": {},
   "outputs": [
    {
     "name": "stdout",
     "output_type": "stream",
     "text": [
      "2500\n"
     ]
    }
   ],
   "source": [
    "print(max(d[2]))"
   ]
  },
  {
   "cell_type": "code",
   "execution_count": 11,
   "metadata": {},
   "outputs": [
    {
     "name": "stdout",
     "output_type": "stream",
     "text": [
      "       0   14073392\n",
      "       1   14797503\n",
      "      65        197\n",
      "      66        198\n",
      "      68         78\n",
      "     127   20739782\n"
     ]
    }
   ],
   "source": [
    "for det, count in zip(*np.unique(d[1], return_counts=True)):\n",
    "    print(\"%8d   %8d\" % (det, count))"
   ]
  },
  {
   "cell_type": "code",
   "execution_count": 12,
   "metadata": {},
   "outputs": [
    {
     "name": "stdout",
     "output_type": "stream",
     "text": [
      "Detector    Counts\n",
      "--------   --------\n",
      "       0   14073100\n",
      "       1   14797436\n"
     ]
    }
   ],
   "source": [
    "nanotimes = d[2]\n",
    "detectors = d[1]\n",
    "timestamps = d[0]\n",
    "\n",
    "not_overflow = d[2] != 0\n",
    "\n",
    "detectors = detectors[not_overflow]\n",
    "timestamps = timestamps[not_overflow]\n",
    "nanotimes = nanotimes[not_overflow]\n",
    "print(\"Detector    Counts\")\n",
    "print(\"--------   --------\")\n",
    "for det, count in zip(*np.unique(detectors, return_counts=True)):\n",
    "    print(\"%8d   %8d\" % (det, count))\n"
   ]
  },
  {
   "cell_type": "code",
   "execution_count": 13,
   "metadata": {
    "scrolled": true
   },
   "outputs": [
    {
     "name": "stdout",
     "output_type": "stream",
     "text": [
      "Saving: LS4.h5\n",
      "Photon-HDF5 WARNING: Missing field \"excitation_wavelengths\" in \"/setup\". \n",
      "Photon-HDF5 WARNING: Missing field \"detection_wavelengths\" in \"/setup\". \n"
     ]
    }
   ],
   "source": [
    "measurement_specs = dict(\n",
    "    measurement_type = 'smFRET-nsALEX',\n",
    "    laser_repetition_rate=int(d[3][\"tags\"][\"TTResult_SyncRate\"]['value']),\n",
    "    detectors_specs = {'spectral_ch1': [1],  # list of donor's detector IDs\n",
    "                       'spectral_ch2': [0]},  # list of acceptor's detector IDs\n",
    "    alex_excitation_period1=[10,1240],\n",
    "    alex_excitation_period2=[1260,2490]\n",
    "    )\n",
    "tcspc_num_bins=max(d[2])\n",
    "nanotimes_specs=dict(\n",
    "    tcspc_unit=float(d[3][\"tags\"][\"MeasDesc_Resolution\"]['value']),\n",
    "    tcspc_num_bins=tcspc_num_bins,\n",
    "    tcspc_range=float(d[3][\"tags\"][\"MeasDesc_Resolution\"]['value'])*tcspc_num_bins\n",
    ")\n",
    "photon_data = dict(\n",
    "    timestamps=timestamps,\n",
    "    detectors=detectors,\n",
    "    timestamps_specs={'timestamps_unit': d[3][\"timestamps_unit\"]},\n",
    "    measurement_specs=measurement_specs,\n",
    "    nanotimes_specs=nanotimes_specs,\n",
    "    nanotimes=nanotimes\n",
    ")\n",
    "setup = dict(\n",
    "    ## Mandatory fields\n",
    "    num_pixels = 2,                   # using 2 detectors\n",
    "    num_spots = 1,                    # a single confoca excitation\n",
    "    num_spectral_ch = 2,              # donor and acceptor detection \n",
    "    num_polarization_ch = 1,          # no polarization selection \n",
    "    num_split_ch = 1,                 # no beam splitter\n",
    "    excitation_cw=[False,False],\n",
    "    modulated_excitation = True,     # CW excitation, no modulation \n",
    "    excitation_alternated = [True,True],  # CW excitation, no modulation \n",
    "    lifetime = True                 #  TCSPC in detection\n",
    ")\n",
    "\n",
    "description = 'This is a fake dataset which mimics smFRET data.'\n",
    "\n",
    "author = 'kk'\n",
    "author_affiliation = 'Name of Research Institution'\n",
    "identity = dict(\n",
    "    author=author,\n",
    "    author_affiliation=author_affiliation)\n",
    "data = dict(\n",
    "    description=description,\n",
    "    photon_data = photon_data,\n",
    "    setup=setup,\n",
    "    identity=identity,\n",
    ")\n",
    "phc.hdf5.save_photon_hdf5(data, h5_fname='LS4.h5', overwrite=True)"
   ]
  },
  {
   "cell_type": "code",
   "execution_count": 14,
   "metadata": {},
   "outputs": [
    {
     "data": {
      "text/plain": [
       "array([       6674,        7307,       10121, ..., 57603727362,\n",
       "       57603728543, 57603731089])"
      ]
     },
     "execution_count": 14,
     "metadata": {},
     "output_type": "execute_result"
    }
   ],
   "source": [
    "timestamps"
   ]
  },
  {
   "cell_type": "code",
   "execution_count": 15,
   "metadata": {},
   "outputs": [
    {
     "data": {
      "text/plain": [
       "2.50000003337858e-11"
      ]
     },
     "execution_count": 15,
     "metadata": {},
     "output_type": "execute_result"
    }
   ],
   "source": [
    "float(d[3][\"tags\"][\"MeasDesc_Resolution\"]['value'])"
   ]
  },
  {
   "cell_type": "code",
   "execution_count": null,
   "metadata": {},
   "outputs": [],
   "source": []
  }
 ],
 "metadata": {
  "kernelspec": {
   "display_name": "Python 3",
   "language": "python",
   "name": "python3"
  },
  "language_info": {
   "codemirror_mode": {
    "name": "ipython",
    "version": 3
   },
   "file_extension": ".py",
   "mimetype": "text/x-python",
   "name": "python",
   "nbconvert_exporter": "python",
   "pygments_lexer": "ipython3",
   "version": "3.6.4"
  }
 },
 "nbformat": 4,
 "nbformat_minor": 2
}
