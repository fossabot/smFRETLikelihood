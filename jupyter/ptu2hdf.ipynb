{
 "cells": [
  {
   "cell_type": "code",
   "execution_count": 1,
   "metadata": {},
   "outputs": [
    {
     "name": "stdout",
     "output_type": "stream",
     "text": [
      "phconvert version: 0.8.2\n"
     ]
    }
   ],
   "source": [
    "%matplotlib inline\n",
    "import numpy as np\n",
    "import phconvert as phc\n",
    "print('phconvert version: ' + phc.__version__)\n",
    "f=\"/dataB/smfretData/lineardiub/LS9_150pM_poslineardiUb25c101c_alex488cy5_32MHz_ 1.ptu\"\n",
    "d=phc.pqreader.load_ptu(f)"
   ]
  },
  {
   "cell_type": "code",
   "execution_count": 2,
   "metadata": {},
   "outputs": [
    {
     "name": "stdout",
     "output_type": "stream",
     "text": [
      "46450410\n"
     ]
    }
   ],
   "source": [
    "print(len(d[0]))"
   ]
  },
  {
   "cell_type": "code",
   "execution_count": 3,
   "metadata": {},
   "outputs": [
    {
     "name": "stdout",
     "output_type": "stream",
     "text": [
      "46450410\n"
     ]
    }
   ],
   "source": [
    "print(len(d[1]))"
   ]
  },
  {
   "cell_type": "code",
   "execution_count": 4,
   "metadata": {},
   "outputs": [
    {
     "name": "stdout",
     "output_type": "stream",
     "text": [
      "46450410\n"
     ]
    }
   ],
   "source": [
    "print(len(d[2]))"
   ]
  },
  {
   "cell_type": "code",
   "execution_count": 5,
   "metadata": {},
   "outputs": [
    {
     "name": "stdout",
     "output_type": "stream",
     "text": [
      "4\n"
     ]
    }
   ],
   "source": [
    "print(len(d[3]))"
   ]
  },
  {
   "cell_type": "code",
   "execution_count": 6,
   "metadata": {},
   "outputs": [
    {
     "name": "stdout",
     "output_type": "stream",
     "text": [
      "{\n",
      "    \"timestamps_unit\": 6.249687515624219e-08,\n",
      "    \"nanotimes_unit\": 2.50000003337858e-11,\n",
      "    \"tags\": {\n",
      "        \"File_GUID\": {\n",
      "            \"type\": \"tyAnsiString\",\n",
      "            \"data\": \"{A8D0113D-387A-4033-9A81-E520AA07E8E0}\",\n",
      "            \"idx\": -1,\n",
      "            \"value\": 40\n",
      "        },\n",
      "        \"File_CreatingTime\": {\n",
      "            \"type\": \"tyTDateTime\",\n",
      "            \"idx\": -1,\n",
      "            \"value\": \"2017-08-03 11:17:21\"\n",
      "        },\n",
      "        \"$StartedByRemoteInterface\": {\n",
      "            \"type\": \"tyBool8\",\n",
      "            \"idx\": -1,\n",
      "            \"value\": true\n",
      "        },\n",
      "        \"Measurement_SubMode\": {\n",
      "            \"type\": \"tyInt8\",\n",
      "            \"idx\": -1,\n",
      "            \"value\": 1\n",
      "        },\n",
      "        \"File_Comment\": {\n",
      "            \"type\": \"tyAnsiString\",\n",
      "            \"data\": \"{First Dichroic Mirror}: 405/488/561/640\\r\\n{Pinhole Size(um)}: 99.6\\r\\n{Scan Direction}: One way\\r\\n{Scanner Zoom}: 1.000\\r\\n{Scan Speed}: 2\\r\\n{Optics}: Plan Apo IR 60x WI DIC N2\",\n",
      "            \"idx\": -1,\n",
      "            \"value\": 176\n",
      "        },\n",
      "        \"TTResult_StopReason\": {\n",
      "            \"type\": \"tyInt8\",\n",
      "            \"idx\": -1,\n",
      "            \"value\": 1\n",
      "        },\n",
      "        \"Fast_Load_End\": {\n",
      "            \"type\": \"tyEmpty8\",\n",
      "            \"idx\": -1,\n",
      "            \"value\": 0\n",
      "        },\n",
      "        \"CreatorSW_Name\": {\n",
      "            \"type\": \"tyAnsiString\",\n",
      "            \"data\": \"SymPhoTime 64\",\n",
      "            \"idx\": -1,\n",
      "            \"value\": 16\n",
      "        },\n",
      "        \"CreatorSW_Version\": {\n",
      "            \"type\": \"tyAnsiString\",\n",
      "            \"data\": \"2.1\",\n",
      "            \"idx\": -1,\n",
      "            \"value\": 8\n",
      "        },\n",
      "        \"CreatorSW_SVNBuild\": {\n",
      "            \"type\": \"tyInt8\",\n",
      "            \"idx\": -1,\n",
      "            \"value\": 3764\n",
      "        },\n",
      "        \"CreatorSW_Modules\": {\n",
      "            \"type\": \"tyInt8\",\n",
      "            \"idx\": -1,\n",
      "            \"value\": 0\n",
      "        },\n",
      "        \"$ReqHdr_RecordVersion\": {\n",
      "            \"type\": \"tyInt8\",\n",
      "            \"idx\": -1,\n",
      "            \"value\": 16777728\n",
      "        },\n",
      "        \"$ReqHdr_MeasurementType\": {\n",
      "            \"type\": \"tyInt8\",\n",
      "            \"idx\": -1,\n",
      "            \"value\": 0\n",
      "        },\n",
      "        \"$Comment\": {\n",
      "            \"type\": \"tyAnsiString\",\n",
      "            \"data\": \"{First Dichroic Mirror}: 405/488/561/640\\r\\n{Pinhole Size(um)}: 99.6\\r\\n{Scan Direction}: One way\\r\\n{Scanner Zoom}: 1.000\\r\\n{Scan Speed}: 2\\r\\n{Optics}: Plan Apo IR 60x WI DIC N2\",\n",
      "            \"idx\": -1,\n",
      "            \"value\": 176\n",
      "        },\n",
      "        \"$Groupname\": {\n",
      "            \"type\": \"tyAnsiString\",\n",
      "            \"data\": \"diUb201706\",\n",
      "            \"idx\": -1,\n",
      "            \"value\": 16\n",
      "        },\n",
      "        \"$Filename\": {\n",
      "            \"type\": \"tyAnsiString\",\n",
      "            \"data\": \"LS9_150pM_poslineardiUb25c101c_alex488cy5_32MHz_ 1\",\n",
      "            \"idx\": -1,\n",
      "            \"value\": 56\n",
      "        },\n",
      "        \"ImgHdr_Dimensions\": {\n",
      "            \"type\": \"tyInt8\",\n",
      "            \"idx\": -1,\n",
      "            \"value\": 1\n",
      "        },\n",
      "        \"ImgHdr_Ident\": {\n",
      "            \"type\": \"tyInt8\",\n",
      "            \"idx\": -1,\n",
      "            \"value\": 3\n",
      "        },\n",
      "        \"UsrPulseCfg\": {\n",
      "            \"type\": \"tyAnsiString\",\n",
      "            \"data\": \"PIE\",\n",
      "            \"idx\": -1,\n",
      "            \"value\": 8\n",
      "        },\n",
      "        \"UsrPulseCfgIdx\": {\n",
      "            \"type\": \"tyInt8\",\n",
      "            \"idx\": -1,\n",
      "            \"value\": 1\n",
      "        },\n",
      "        \"UsrHeadName\": {\n",
      "            \"type\": \"tyAnsiString\",\n",
      "            \"data\": \"639.0nm (LDH-P-C-640)\",\n",
      "            \"idx\": 1,\n",
      "            \"value\": 24\n",
      "        },\n",
      "        \"Sep2_SerialNo\": {\n",
      "            \"type\": \"tyInt8\",\n",
      "            \"idx\": 1174384,\n",
      "            \"value\": 1020627\n",
      "        },\n",
      "        \"Sep2_FirmwareVersion\": {\n",
      "            \"type\": \"tyInt8\",\n",
      "            \"idx\": 1174384,\n",
      "            \"value\": 1\n",
      "        },\n",
      "        \"Sep2_SCM_000_SerialNo\": {\n",
      "            \"type\": \"tyInt8\",\n",
      "            \"idx\": 1174384,\n",
      "            \"value\": 1017943\n",
      "        },\n",
      "        \"Sep2_SOM_100_SerialNo\": {\n",
      "            \"type\": \"tyInt8\",\n",
      "            \"idx\": 1174384,\n",
      "            \"value\": 1020576\n",
      "        },\n",
      "        \"Sep2_SOM_100_BaseOscFreq\": {\n",
      "            \"type\": \"tyInt8\",\n",
      "            \"idx\": 1174384,\n",
      "            \"value\": 64000000\n",
      "        },\n",
      "        \"Sep2_SOM_100_Divider\": {\n",
      "            \"type\": \"tyInt8\",\n",
      "            \"idx\": 1174384,\n",
      "            \"value\": 2\n",
      "        },\n",
      "        \"Sep2_SOM_100_PreSync\": {\n",
      "            \"type\": \"tyInt8\",\n",
      "            \"idx\": 1174384,\n",
      "            \"value\": 0\n",
      "        },\n",
      "        \"Sep2_SOM_100_SyncMask\": {\n",
      "            \"type\": \"tyInt8\",\n",
      "            \"idx\": 1174384,\n",
      "            \"value\": 1\n",
      "        },\n",
      "        \"Sep2_SOM_100_InvSyncMask\": {\n",
      "            \"type\": \"tyInt8\",\n",
      "            \"idx\": 1174384,\n",
      "            \"value\": -1\n",
      "        },\n",
      "        \"Sep2_SOM_100_Seq_BurstLen\": {\n",
      "            \"type\": \"tyInt8\",\n",
      "            \"idx\": 7,\n",
      "            \"value\": 0\n",
      "        },\n",
      "        \"Sep2_SOM_100_Seq_EnaOutput\": {\n",
      "            \"type\": \"tyInt8\",\n",
      "            \"idx\": 7,\n",
      "            \"value\": -1\n",
      "        },\n",
      "        \"Sep2_SOM_100_Seq_EnaSync\": {\n",
      "            \"type\": \"tyInt8\",\n",
      "            \"idx\": 7,\n",
      "            \"value\": 0\n",
      "        },\n",
      "        \"Sep2_SLM_200_SerialNo\": {\n",
      "            \"type\": \"tyInt8\",\n",
      "            \"idx\": 0,\n",
      "            \"value\": 1021097\n",
      "        },\n",
      "        \"Sep2_SLM_200_TriggerIndex\": {\n",
      "            \"type\": \"tyInt8\",\n",
      "            \"idx\": 0,\n",
      "            \"value\": 7\n",
      "        },\n",
      "        \"Sep2_SLM_200_FineIntensity\": {\n",
      "            \"type\": \"tyInt8\",\n",
      "            \"idx\": 0,\n",
      "            \"value\": 97\n",
      "        },\n",
      "        \"Sep2_SLM_200_CW_PulseDisable\": {\n",
      "            \"type\": \"tyInt8\",\n",
      "            \"idx\": 0,\n",
      "            \"value\": 0\n",
      "        },\n",
      "        \"Sep2_SLM_200_HeadType\": {\n",
      "            \"type\": \"tyInt8\",\n",
      "            \"idx\": 0,\n",
      "            \"value\": 0\n",
      "        },\n",
      "        \"Sep2_SLM_300_SerialNo\": {\n",
      "            \"type\": \"tyInt8\",\n",
      "            \"idx\": 1,\n",
      "            \"value\": 1021098\n",
      "        },\n",
      "        \"Sep2_SLM_300_TriggerIndex\": {\n",
      "            \"type\": \"tyInt8\",\n",
      "            \"idx\": 1,\n",
      "            \"value\": 7\n",
      "        },\n",
      "        \"Sep2_SLM_300_FineIntensity\": {\n",
      "            \"type\": \"tyInt8\",\n",
      "            \"idx\": 1,\n",
      "            \"value\": 52\n",
      "        },\n",
      "        \"Sep2_SLM_300_CW_PulseDisable\": {\n",
      "            \"type\": \"tyInt8\",\n",
      "            \"idx\": 1,\n",
      "            \"value\": 0\n",
      "        },\n",
      "        \"Sep2_SLM_300_HeadType\": {\n",
      "            \"type\": \"tyInt8\",\n",
      "            \"idx\": 1,\n",
      "            \"value\": 0\n",
      "        },\n",
      "        \"Measurement_Mode\": {\n",
      "            \"type\": \"tyInt8\",\n",
      "            \"idx\": -1,\n",
      "            \"value\": 3\n",
      "        },\n",
      "        \"HW_Type\": {\n",
      "            \"type\": \"tyAnsiString\",\n",
      "            \"data\": \"TimeHarp260P\",\n",
      "            \"idx\": -1,\n",
      "            \"value\": 16\n",
      "        },\n",
      "        \"HW_SerialNo\": {\n",
      "            \"type\": \"tyAnsiString\",\n",
      "            \"data\": \"1020408\",\n",
      "            \"idx\": -1,\n",
      "            \"value\": 8\n",
      "        },\n",
      "        \"HW_Version\": {\n",
      "            \"type\": \"tyAnsiString\",\n",
      "            \"data\": \"0111-0422-01.02\",\n",
      "            \"idx\": -1,\n",
      "            \"value\": 16\n",
      "        },\n",
      "        \"HW_ExternalRefClock\": {\n",
      "            \"type\": \"tyBool8\",\n",
      "            \"idx\": -1,\n",
      "            \"value\": false\n",
      "        },\n",
      "        \"HW_Modules\": {\n",
      "            \"type\": \"tyInt8\",\n",
      "            \"idx\": -1,\n",
      "            \"value\": 1\n",
      "        },\n",
      "        \"HWModule_TypeCode\": {\n",
      "            \"type\": \"tyInt8\",\n",
      "            \"idx\": 0,\n",
      "            \"value\": 1000\n",
      "        },\n",
      "        \"HWModule_VersCode\": {\n",
      "            \"type\": \"tyInt8\",\n",
      "            \"idx\": 0,\n",
      "            \"value\": 17891332\n",
      "        },\n",
      "        \"HW_Markers\": {\n",
      "            \"type\": \"tyInt8\",\n",
      "            \"idx\": -1,\n",
      "            \"value\": 4\n",
      "        },\n",
      "        \"HWMarkers_Enabled\": {\n",
      "            \"type\": \"tyBool8\",\n",
      "            \"idx\": 3,\n",
      "            \"value\": true\n",
      "        },\n",
      "        \"HWMarkers_RisingEdge\": {\n",
      "            \"type\": \"tyBool8\",\n",
      "            \"idx\": 3,\n",
      "            \"value\": false\n",
      "        },\n",
      "        \"HWMarkers_HoldOff\": {\n",
      "            \"type\": \"tyInt8\",\n",
      "            \"idx\": -1,\n",
      "            \"value\": 0\n",
      "        },\n",
      "        \"HW_BaseResolution\": {\n",
      "            \"type\": \"tyFloat8\",\n",
      "            \"idx\": -1,\n",
      "            \"value\": 2.50000003337858e-11\n",
      "        },\n",
      "        \"MeasDesc_BinningFactor\": {\n",
      "            \"type\": \"tyInt8\",\n",
      "            \"idx\": -1,\n",
      "            \"value\": 1\n",
      "        },\n",
      "        \"MeasDesc_Resolution\": {\n",
      "            \"type\": \"tyFloat8\",\n",
      "            \"idx\": -1,\n",
      "            \"value\": 2.50000003337858e-11\n",
      "        },\n",
      "        \"HWSync_CFDLevel\": {\n",
      "            \"type\": \"tyInt8\",\n",
      "            \"idx\": -1,\n",
      "            \"value\": -100\n",
      "        },\n",
      "        \"HWSync_CFDZeroCross\": {\n",
      "            \"type\": \"tyInt8\",\n",
      "            \"idx\": -1,\n",
      "            \"value\": -10\n",
      "        },\n",
      "        \"HWSync_Offset\": {\n",
      "            \"type\": \"tyInt8\",\n",
      "            \"idx\": -1,\n",
      "            \"value\": 3500\n",
      "        },\n",
      "        \"HWSync_Divider\": {\n",
      "            \"type\": \"tyInt8\",\n",
      "            \"idx\": -1,\n",
      "            \"value\": 8\n",
      "        },\n",
      "        \"HW_InpChannels\": {\n",
      "            \"type\": \"tyInt8\",\n",
      "            \"idx\": -1,\n",
      "            \"value\": 3\n",
      "        },\n",
      "        \"HWInpChan_CFDLevel\": {\n",
      "            \"type\": \"tyInt8\",\n",
      "            \"idx\": 1,\n",
      "            \"value\": -50\n",
      "        },\n",
      "        \"HWInpChan_CFDZeroCross\": {\n",
      "            \"type\": \"tyInt8\",\n",
      "            \"idx\": 1,\n",
      "            \"value\": -10\n",
      "        },\n",
      "        \"HWInpChan_Offset\": {\n",
      "            \"type\": \"tyInt8\",\n",
      "            \"idx\": 1,\n",
      "            \"value\": 0\n",
      "        },\n",
      "        \"HWInpChan_Enabled\": {\n",
      "            \"type\": \"tyBool8\",\n",
      "            \"idx\": 1,\n",
      "            \"value\": true\n",
      "        },\n",
      "        \"HWInpChan_ModuleIdx\": {\n",
      "            \"type\": \"tyInt8\",\n",
      "            \"idx\": 1,\n",
      "            \"value\": 1\n",
      "        },\n",
      "        \"TTResult_SyncRate\": {\n",
      "            \"type\": \"tyInt8\",\n",
      "            \"idx\": -1,\n",
      "            \"value\": 16000800\n",
      "        },\n",
      "        \"TTResult_InputRate\": {\n",
      "            \"type\": \"tyInt8\",\n",
      "            \"idx\": 1,\n",
      "            \"value\": 3880\n",
      "        },\n",
      "        \"MeasDesc_GlobalResolution\": {\n",
      "            \"type\": \"tyFloat8\",\n",
      "            \"idx\": -1,\n",
      "            \"value\": 6.249687515624219e-08\n",
      "        },\n",
      "        \"TTResult_NumberOfRecords\": {\n",
      "            \"type\": \"tyInt8\",\n",
      "            \"idx\": -1,\n",
      "            \"value\": 46450410\n",
      "        },\n",
      "        \"MeasDesc_AcquisitionTime\": {\n",
      "            \"type\": \"tyInt8\",\n",
      "            \"idx\": -1,\n",
      "            \"value\": 36000000\n",
      "        },\n",
      "        \"TTResult_StopAfter\": {\n",
      "            \"type\": \"tyInt8\",\n",
      "            \"idx\": -1,\n",
      "            \"value\": 3600050\n",
      "        },\n",
      "        \"TTResultFormat_TTTRRecType\": {\n",
      "            \"type\": \"tyInt8\",\n",
      "            \"idx\": -1,\n",
      "            \"value\": 66310\n",
      "        },\n",
      "        \"TTResultFormat_BitsPerRecord\": {\n",
      "            \"type\": \"tyInt8\",\n",
      "            \"idx\": -1,\n",
      "            \"value\": 32\n",
      "        },\n",
      "        \"Header_End\": {\n",
      "            \"type\": \"tyEmpty8\",\n",
      "            \"idx\": -1,\n",
      "            \"value\": 0\n",
      "        }\n",
      "    },\n",
      "    \"acquisition_duration\": 36000.0\n",
      "}\n"
     ]
    }
   ],
   "source": [
    "import json\n",
    "#parsed = json.loads(d[3])\n",
    "print(json.dumps(d[3],indent=4))"
   ]
  },
  {
   "cell_type": "code",
   "execution_count": 7,
   "metadata": {},
   "outputs": [
    {
     "name": "stdout",
     "output_type": "stream",
     "text": [
      "16000800\n",
      "1.0000000624968752\n"
     ]
    }
   ],
   "source": [
    "print(int(d[3][\"tags\"][\"TTResult_SyncRate\"]['value']))\n",
    "print(d[3][\"timestamps_unit\"]+1)"
   ]
  },
  {
   "cell_type": "code",
   "execution_count": 8,
   "metadata": {},
   "outputs": [
    {
     "data": {
      "text/plain": [
       "(array([  1.97617750e+07,   1.43830000e+04,   1.43590000e+04,\n",
       "          1.78060000e+04,   1.79110000e+04,   1.89520000e+04,\n",
       "          2.68290000e+04,   2.56750000e+04,   2.03780000e+04,\n",
       "          2.11590000e+04,   2.13190000e+04,   1.98038600e+06,\n",
       "          4.75730600e+06,   3.31910300e+06,   2.21551600e+06,\n",
       "          1.62786100e+06,   1.18755000e+06,   9.62457000e+05,\n",
       "          7.58422000e+05,   6.10099000e+05,   4.75788000e+05,\n",
       "          4.10461000e+05,   3.40979000e+05,   2.87334000e+05,\n",
       "          2.34033000e+05,   2.08129000e+05,   1.78723000e+05,\n",
       "          1.54333000e+05,   1.29555000e+05,   1.17922000e+05,\n",
       "          1.04402000e+05,   9.18230000e+04,   7.84190000e+04,\n",
       "          7.32500000e+04,   6.53710000e+04,   5.87640000e+04,\n",
       "          5.13120000e+04,   4.90410000e+04,   4.46420000e+04,\n",
       "          4.11770000e+04,   3.68290000e+04,   3.54430000e+04,\n",
       "          3.33680000e+04,   3.10770000e+04,   2.82100000e+04,\n",
       "          2.79760000e+04,   2.63450000e+04,   2.51700000e+04,\n",
       "          2.30880000e+04,   2.30970000e+04,   2.22410000e+04,\n",
       "          2.15510000e+04,   1.99930000e+04,   2.02740000e+04,\n",
       "          2.01230000e+04,   2.00170000e+04,   2.08910000e+04,\n",
       "          2.53920000e+04,   3.10970000e+04,   2.17160000e+04,\n",
       "          1.98830000e+04,   2.01990000e+04,   1.95710000e+04,\n",
       "          1.02743000e+05,   1.50613800e+06,   1.20068400e+06,\n",
       "          7.28586000e+05,   4.52442000e+05,   2.81510000e+05,\n",
       "          1.95485000e+05,   1.33110000e+05,   9.40980000e+04,\n",
       "          6.57300000e+04,   5.20070000e+04,   4.07560000e+04,\n",
       "          3.27600000e+04,   2.68570000e+04,   2.40480000e+04,\n",
       "          2.18210000e+04,   1.99720000e+04,   1.80360000e+04,\n",
       "          1.76430000e+04,   1.68860000e+04,   1.66360000e+04,\n",
       "          1.53270000e+04,   1.58290000e+04,   1.60000000e+04,\n",
       "          1.55640000e+04,   1.47200000e+04,   1.53890000e+04,\n",
       "          1.51800000e+04,   1.50360000e+04,   1.44410000e+04,\n",
       "          1.47870000e+04,   1.49100000e+04,   1.45960000e+04,\n",
       "          1.42360000e+04,   1.46640000e+04,   1.47960000e+04,\n",
       "          1.46580000e+04,   1.40740000e+04]),\n",
       " array([    0.        ,    24.75247525,    49.5049505 ,    74.25742574,\n",
       "           99.00990099,   123.76237624,   148.51485149,   173.26732673,\n",
       "          198.01980198,   222.77227723,   247.52475248,   272.27722772,\n",
       "          297.02970297,   321.78217822,   346.53465347,   371.28712871,\n",
       "          396.03960396,   420.79207921,   445.54455446,   470.2970297 ,\n",
       "          495.04950495,   519.8019802 ,   544.55445545,   569.30693069,\n",
       "          594.05940594,   618.81188119,   643.56435644,   668.31683168,\n",
       "          693.06930693,   717.82178218,   742.57425743,   767.32673267,\n",
       "          792.07920792,   816.83168317,   841.58415842,   866.33663366,\n",
       "          891.08910891,   915.84158416,   940.59405941,   965.34653465,\n",
       "          990.0990099 ,  1014.85148515,  1039.6039604 ,  1064.35643564,\n",
       "         1089.10891089,  1113.86138614,  1138.61386139,  1163.36633663,\n",
       "         1188.11881188,  1212.87128713,  1237.62376238,  1262.37623762,\n",
       "         1287.12871287,  1311.88118812,  1336.63366337,  1361.38613861,\n",
       "         1386.13861386,  1410.89108911,  1435.64356436,  1460.3960396 ,\n",
       "         1485.14851485,  1509.9009901 ,  1534.65346535,  1559.40594059,\n",
       "         1584.15841584,  1608.91089109,  1633.66336634,  1658.41584158,\n",
       "         1683.16831683,  1707.92079208,  1732.67326733,  1757.42574257,\n",
       "         1782.17821782,  1806.93069307,  1831.68316832,  1856.43564356,\n",
       "         1881.18811881,  1905.94059406,  1930.69306931,  1955.44554455,\n",
       "         1980.1980198 ,  2004.95049505,  2029.7029703 ,  2054.45544554,\n",
       "         2079.20792079,  2103.96039604,  2128.71287129,  2153.46534653,\n",
       "         2178.21782178,  2202.97029703,  2227.72277228,  2252.47524752,\n",
       "         2277.22772277,  2301.98019802,  2326.73267327,  2351.48514851,\n",
       "         2376.23762376,  2400.99009901,  2425.74257426,  2450.4950495 ,\n",
       "         2475.24752475,  2500.        ]),\n",
       " <a list of 101 Patch objects>)"
      ]
     },
     "execution_count": 8,
     "metadata": {},
     "output_type": "execute_result"
    },
    {
     "data": {
      "image/png": "[encoded data removed]",
      "text/plain": [
       "<matplotlib.figure.Figure at 0x7fc2681b5358>"
      ]
     },
     "metadata": {},
     "output_type": "display_data"
    }
   ],
   "source": [
    "import matplotlib\n",
    "matplotlib.pyplot.hist(d[2],101)"
   ]
  },
  {
   "cell_type": "code",
   "execution_count": 9,
   "metadata": {},
   "outputs": [
    {
     "name": "stdout",
     "output_type": "stream",
     "text": [
      "2500\n"
     ]
    }
   ],
   "source": [
    "print(max(d[2]))"
   ]
  },
  {
   "cell_type": "code",
   "execution_count": 10,
   "metadata": {},
   "outputs": [
    {
     "name": "stdout",
     "output_type": "stream",
     "text": [
      "       0   11783785\n",
      "       1   14918971\n",
      "     127   19747654\n"
     ]
    }
   ],
   "source": [
    "for det, count in zip(*np.unique(d[1], return_counts=True)):\n",
    "    print(\"%8d   %8d\" % (det, count))"
   ]
  },
  {
   "cell_type": "code",
   "execution_count": 11,
   "metadata": {},
   "outputs": [
    {
     "name": "stdout",
     "output_type": "stream",
     "text": [
      "Detector    Counts\n",
      "--------   --------\n",
      "       0   11783630\n",
      "       1   14918897\n"
     ]
    }
   ],
   "source": [
    "nanotimes = d[2]\n",
    "detectors = d[1]\n",
    "timestamps = d[0]\n",
    "\n",
    "not_overflow = d[2] != 0\n",
    "\n",
    "detectors = detectors[not_overflow]\n",
    "timestamps = timestamps[not_overflow]\n",
    "nanotimes = nanotimes[not_overflow]\n",
    "print(\"Detector    Counts\")\n",
    "print(\"--------   --------\")\n",
    "for det, count in zip(*np.unique(detectors, return_counts=True)):\n",
    "    print(\"%8d   %8d\" % (det, count))\n"
   ]
  },
  {
   "cell_type": "code",
   "execution_count": 12,
   "metadata": {
    "scrolled": true
   },
   "outputs": [
    {
     "name": "stdout",
     "output_type": "stream",
     "text": [
      "Saving: LS3.h5\n",
      "Photon-HDF5 WARNING: Missing field \"excitation_wavelengths\" in \"/setup\". \n",
      "Photon-HDF5 WARNING: Missing field \"detection_wavelengths\" in \"/setup\". \n"
     ]
    }
   ],
   "source": [
    "measurement_specs = dict(\n",
    "    measurement_type = 'smFRET-nsALEX',\n",
    "    laser_repetition_rate=int(d[3][\"tags\"][\"TTResult_SyncRate\"]['value']),\n",
    "    detectors_specs = {'spectral_ch1': [1],  # list of donor's detector IDs\n",
    "                       'spectral_ch2': [0]},  # list of acceptor's detector IDs\n",
    "    alex_excitation_period1=[10,1240],\n",
    "    alex_excitation_period2=[1260,2490]\n",
    "    )\n",
    "tcspc_num_bins=max(d[2])\n",
    "nanotimes_specs=dict(\n",
    "    tcspc_unit=float(d[3][\"tags\"][\"MeasDesc_Resolution\"]['value']),\n",
    "    tcspc_num_bins=tcspc_num_bins,\n",
    "    tcspc_range=float(d[3][\"tags\"][\"MeasDesc_Resolution\"]['value'])*tcspc_num_bins\n",
    ")\n",
    "photon_data = dict(\n",
    "    timestamps=timestamps,\n",
    "    detectors=detectors,\n",
    "    timestamps_specs={'timestamps_unit': d[3][\"timestamps_unit\"]},\n",
    "    measurement_specs=measurement_specs,\n",
    "    nanotimes_specs=nanotimes_specs,\n",
    "    nanotimes=nanotimes\n",
    ")\n",
    "setup = dict(\n",
    "    ## Mandatory fields\n",
    "    num_pixels = 2,                   # using 2 detectors\n",
    "    num_spots = 1,                    # a single confoca excitation\n",
    "    num_spectral_ch = 2,              # donor and acceptor detection \n",
    "    num_polarization_ch = 1,          # no polarization selection \n",
    "    num_split_ch = 1,                 # no beam splitter\n",
    "    excitation_cw=[False,False],\n",
    "    modulated_excitation = True,     # CW excitation, no modulation \n",
    "    excitation_alternated = [True,True],  # CW excitation, no modulation \n",
    "    lifetime = True                 #  TCSPC in detection\n",
    ")\n",
    "\n",
    "description = 'This is a fake dataset which mimics smFRET data.'\n",
    "\n",
    "author = 'kk'\n",
    "author_affiliation = 'Name of Research Institution'\n",
    "identity = dict(\n",
    "    author=author,\n",
    "    author_affiliation=author_affiliation)\n",
    "data = dict(\n",
    "    description=description,\n",
    "    photon_data = photon_data,\n",
    "    setup=setup,\n",
    "    identity=identity,\n",
    ")\n",
    "phc.hdf5.save_photon_hdf5(data, h5_fname='LS3.h5', overwrite=True)"
   ]
  },
  {
   "cell_type": "code",
   "execution_count": 13,
   "metadata": {},
   "outputs": [
    {
     "data": {
      "text/plain": [
       "array([       2003,        4465,        6527, ..., 57603719474,\n",
       "       57603721109, 57603723482])"
      ]
     },
     "execution_count": 13,
     "metadata": {},
     "output_type": "execute_result"
    }
   ],
   "source": [
    "timestamps"
   ]
  },
  {
   "cell_type": "code",
   "execution_count": 14,
   "metadata": {},
   "outputs": [
    {
     "data": {
      "text/plain": [
       "2.50000003337858e-11"
      ]
     },
     "execution_count": 14,
     "metadata": {},
     "output_type": "execute_result"
    }
   ],
   "source": [
    "float(d[3][\"tags\"][\"MeasDesc_Resolution\"]['value'])"
   ]
  },
  {
   "cell_type": "code",
   "execution_count": null,
   "metadata": {},
   "outputs": [],
   "source": []
  }
 ],
 "metadata": {
  "kernelspec": {
   "display_name": "Python 3",
   "language": "python",
   "name": "python3"
  },
  "language_info": {
   "codemirror_mode": {
    "name": "ipython",
    "version": 3
   },
   "file_extension": ".py",
   "mimetype": "text/x-python",
   "name": "python",
   "nbconvert_exporter": "python",
   "pygments_lexer": "ipython3",
   "version": "3.5.4"
  }
 },
 "nbformat": 4,
 "nbformat_minor": 2
}
